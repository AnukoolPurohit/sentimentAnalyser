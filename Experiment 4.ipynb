{
 "cells": [
  {
   "cell_type": "code",
   "execution_count": 1,
   "metadata": {},
   "outputs": [],
   "source": [
    "%reload_ext autoreload\n",
    "%autoreload 2\n",
    "%matplotlib inline"
   ]
  },
  {
   "cell_type": "code",
   "execution_count": 2,
   "metadata": {},
   "outputs": [],
   "source": [
    "from sentimentanalyser.utils.data  import Path, pad_collate, grandparent_splitter\n",
    "from sentimentanalyser.utils.data  import parent_labeler, listify\n",
    "from sentimentanalyser.data.text   import TextList, ItemList, SplitData\n",
    "from sentimentanalyser.utils.files import pickle_dump, pickle_load\n",
    "\n",
    "from sentimentanalyser.preprocessing.processor import TokenizerProcessor, NuemericalizeProcessor\n",
    "from sentimentanalyser.preprocessing.processor import CategoryProcessor"
   ]
  },
  {
   "cell_type": "code",
   "execution_count": 3,
   "metadata": {},
   "outputs": [],
   "source": [
    "from functools import partial"
   ]
  },
  {
   "cell_type": "code",
   "execution_count": 4,
   "metadata": {},
   "outputs": [],
   "source": [
    "path_imdb = Path(\"/home/anukoolpurohit/Documents/AnukoolPurohit/Datasets/imdb\")"
   ]
  },
  {
   "cell_type": "code",
   "execution_count": 5,
   "metadata": {},
   "outputs": [],
   "source": [
    "proc_tok = TokenizerProcessor()\n",
    "proc_num = NuemericalizeProcessor()\n",
    "proc_cat = CategoryProcessor()"
   ]
  },
  {
   "cell_type": "code",
   "execution_count": 6,
   "metadata": {},
   "outputs": [
    {
     "data": {
      "application/vnd.jupyter.widget-view+json": {
       "model_id": "ec84843dc26b4a6086bba30b441608e2",
       "version_major": 2,
       "version_minor": 0
      },
      "text/plain": [
       "HBox(children=(IntProgress(value=0, max=13), HTML(value='')))"
      ]
     },
     "metadata": {},
     "output_type": "display_data"
    },
    {
     "name": "stdout",
     "output_type": "stream",
     "text": [
      "\n"
     ]
    },
    {
     "data": {
      "application/vnd.jupyter.widget-view+json": {
       "model_id": "b6ecbd893514440e966ed350fb38162c",
       "version_major": 2,
       "version_minor": 0
      },
      "text/plain": [
       "HBox(children=(IntProgress(value=0, max=13), HTML(value='')))"
      ]
     },
     "metadata": {},
     "output_type": "display_data"
    },
    {
     "name": "stdout",
     "output_type": "stream",
     "text": [
      "\n"
     ]
    },
    {
     "data": {
      "application/vnd.jupyter.widget-view+json": {
       "model_id": "91dca855e40e4e8081a603bd15babf1e",
       "version_major": 2,
       "version_minor": 0
      },
      "text/plain": [
       "HBox(children=(IntProgress(value=1, bar_style='info', max=1), HTML(value='')))"
      ]
     },
     "metadata": {},
     "output_type": "display_data"
    },
    {
     "name": "stdout",
     "output_type": "stream",
     "text": [
      "\n"
     ]
    }
   ],
   "source": [
    "tl_imdb = TextList.from_files(path=path_imdb, folders=['train','test'])\n",
    "sd_imdb = tl_imdb.split_by_func(partial(grandparent_splitter, valid_name='test'))\n",
    "ll_imdb = sd_imdb.label_by_func(parent_labeler, proc_x=[proc_tok, proc_num], proc_y=proc_cat)"
   ]
  },
  {
   "cell_type": "code",
   "execution_count": 7,
   "metadata": {},
   "outputs": [],
   "source": [
    "imdb_data = ll_imdb.clas_databunchify(64)"
   ]
  },
  {
   "cell_type": "markdown",
   "metadata": {},
   "source": [
    "# Using pre-trained embeddings"
   ]
  },
  {
   "cell_type": "code",
   "execution_count": 8,
   "metadata": {},
   "outputs": [],
   "source": [
    "import torch\n",
    "import torchtext\n",
    "from torchtext import vocab\n",
    "from sentimentanalyser.utils.preprocessing import default_spec_tok"
   ]
  },
  {
   "cell_type": "code",
   "execution_count": 9,
   "metadata": {},
   "outputs": [],
   "source": [
    "path_cache = Path('/home/anukoolpurohit/Documents/AnukoolPurohit/Models/WordEmbeddings')"
   ]
  },
  {
   "cell_type": "code",
   "execution_count": 10,
   "metadata": {},
   "outputs": [],
   "source": [
    "ft_eng = vocab.FastText(cache=path_cache)"
   ]
  },
  {
   "cell_type": "code",
   "execution_count": 11,
   "metadata": {},
   "outputs": [],
   "source": [
    "glove_eng = vocab.GloVe(cache=path_cache)"
   ]
  },
  {
   "cell_type": "code",
   "execution_count": 12,
   "metadata": {},
   "outputs": [],
   "source": [
    "from sentimentanalyser.utils.callbacks import sched_cos, combine_scheds\n",
    "from sentimentanalyser.callbacks.training import LR_Find, CudaCallback, GradientClipping\n",
    "from sentimentanalyser.callbacks.progress import ProgressCallback\n",
    "from sentimentanalyser.callbacks.scheduler import ParamScheduler\n",
    "from sentimentanalyser.callbacks.stats import AvgStatsCallback\n",
    "from sentimentanalyser.callbacks.recorder import Recorder\n",
    "from sentimentanalyser.training.trainer import Trainer"
   ]
  },
  {
   "cell_type": "code",
   "execution_count": 14,
   "metadata": {},
   "outputs": [],
   "source": [
    "from sentimentanalyser.utils.dev import print_dims\n",
    "from sentimentanalyser.utils.models import get_lens_and_masks\n",
    "from sentimentanalyser.utils.metrics import accuracy\n",
    "from tqdm.auto import tqdm"
   ]
  },
  {
   "cell_type": "code",
   "execution_count": 15,
   "metadata": {},
   "outputs": [],
   "source": [
    "import torch\n",
    "import torchtext\n",
    "from torch import nn\n",
    "from torchtext import vocab\n",
    "\n",
    "import torch.nn.functional as F"
   ]
  },
  {
   "cell_type": "markdown",
   "metadata": {},
   "source": [
    "#### Some helper functions and variables"
   ]
  },
  {
   "cell_type": "code",
   "execution_count": 16,
   "metadata": {},
   "outputs": [],
   "source": [
    "x1,y1 = next(iter(imdb_data.train_dl))"
   ]
  },
  {
   "cell_type": "markdown",
   "metadata": {},
   "source": [
    "## Transfer vocab"
   ]
  },
  {
   "cell_type": "code",
   "execution_count": 17,
   "metadata": {},
   "outputs": [],
   "source": [
    "def get_embedding_vectors(local_vocab, torchtext_vocab):\n",
    "    size, dims = torchtext_vocab.vectors.shape\n",
    "    vector_values = []\n",
    "    for tok in local_vocab:\n",
    "        if tok in torchtext_vocab.stoi:\n",
    "            vector_values.append(torchtext_vocab.vectors[\n",
    "                                 torchtext_vocab.stoi[tok]].unsqueeze(0))\n",
    "        else:\n",
    "            vector_values.append(torch.zeros(1, dims))\n",
    "    assert len(local_vocab) == len(vector_values)\n",
    "    return torch.cat(vector_values, dim=0)"
   ]
  },
  {
   "cell_type": "markdown",
   "metadata": {},
   "source": [
    "## LSTM Model with pre-trained embeddings"
   ]
  },
  {
   "cell_type": "code",
   "execution_count": 18,
   "metadata": {},
   "outputs": [],
   "source": [
    "class WordSentenceAttn(nn.Module):\n",
    "    def __init__(self, hidden_sz):\n",
    "        super().__init__()\n",
    "        \n",
    "        self.context_weight     = nn.Parameter(torch.Tensor(hidden_sz).uniform_(-0.1,0.1))\n",
    "        self.context_projection = nn.Linear(hidden_sz, hidden_sz)\n",
    "    \n",
    "    def forward(self, context):\n",
    "        context_proj = torch.tanh(self.context_projection(context))\n",
    "        αt = context_proj.matmul(self.context_weight)\n",
    "        attn_score = F.softmax(αt, dim=1).unsqueeze(2)\n",
    "        sentence = context.transpose(1,2).bmm(attn_score)\n",
    "        return sentence.squeeze(2)"
   ]
  },
  {
   "cell_type": "code",
   "execution_count": 78,
   "metadata": {},
   "outputs": [],
   "source": [
    "class PTLSTMModel(nn.Module):\n",
    "    def __init__(self, hidden_sz=256, output_sz=2, dropout=0.5,\n",
    "                 pad_idx=1, num_layers=2, bidirectional=True):\n",
    "        super().__init__()\n",
    "        \n",
    "        self.pad_idx = pad_idx\n",
    "        self.bidir   = 2 if bidirectional else 1\n",
    "        embd_vecs = get_embedding_vectors(proc_num.vocab, ft_eng)\n",
    "        self.embedding = nn.Embedding.from_pretrained(embd_vecs,\n",
    "            freeze=False, padding_idx=pad_idx)\n",
    "        \n",
    "        self.dropout = nn.Dropout(dropout)\n",
    "        \n",
    "        self.rnn     = nn.LSTM(embd_vecs.shape[1], hidden_sz,\n",
    "                               batch_first=True,\n",
    "                               dropout=dropout,\n",
    "                               num_layers=num_layers,\n",
    "                               bidirectional=bidirectional)\n",
    "        \n",
    "        self.attn = WordSentenceAttn(self.bidir*hidden_sz)\n",
    "        self.linear = nn.Linear(self.bidir*hidden_sz, output_sz)\n",
    "    \n",
    "    def forward(self, xb):\n",
    "        seq_lens, mask = get_lens_and_masks(xb, self.pad_idx)\n",
    "        \n",
    "        embeded = self.dropout(self.embedding(xb))\n",
    "        packed_emb = nn.utils.rnn.pack_padded_sequence(embeded, seq_lens,\n",
    "                                                       batch_first=True)\n",
    "        \n",
    "        packed_out, (hidden_st, cell_st) = self.rnn(packed_emb)\n",
    "        \n",
    "        context, _ = nn.utils.rnn.pad_packed_sequence(packed_out,\n",
    "                                                      batch_first=True)\n",
    "        \n",
    "        sentence = self.attn(context)\n",
    "        return self.linear(sentence)"
   ]
  },
  {
   "cell_type": "markdown",
   "metadata": {},
   "source": [
    "### Glove Concat Model"
   ]
  },
  {
   "cell_type": "code",
   "execution_count": 79,
   "metadata": {},
   "outputs": [],
   "source": [
    "class GloveConcatModel(nn.Module):\n",
    "    def __init__(self,local_vocab, torchtext_vocab, \n",
    "                 hidden_sz=256, output_sz=2, dropout=0.5,\n",
    "                 num_layers=2, pad_idx=1, bidirectional=True):\n",
    "        super().__init__()\n",
    "        \n",
    "        self.bidir   = 2 if bidirectional else 1\n",
    "        self.pad_idx = pad_idx \n",
    "        \n",
    "        embd_vecs = get_embedding_vectors(local_vocab, torchtext_vocab)\n",
    "        self.embedding = nn.Embedding.from_pretrained(embd_vecs,\n",
    "                                                      freeze= False,\n",
    "                                                      padding_idx = pad_idx)\n",
    "        \n",
    "        self.dropout = nn.Dropout(dropout)\n",
    "        \n",
    "        self.rnn     = nn.LSTM(embd_vecs.shape[1], hidden_sz,\n",
    "                               batch_first=True,\n",
    "                               dropout=dropout,\n",
    "                               num_layers=num_layers,\n",
    "                               bidirectional=bidirectional)\n",
    "        \n",
    "        self.linear  = nn.Linear((2+num_layers)*hidden_sz*self.bidir,\n",
    "                                 output_sz)\n",
    "    \n",
    "    def forward(self, xb):\n",
    "        seq_lens, mask = get_lens_and_masks(xb, self.pad_idx)\n",
    "        \n",
    "        embedded = self.dropout(self.embedding(xb))\n",
    "        packed   = nn.utils.rnn.pack_padded_sequence(embedded, seq_lens,\n",
    "                                                     batch_first=True)\n",
    "        \n",
    "        packed_out, (hidden_st, cell_st) = self.rnn(packed)\n",
    "        \n",
    "        lstm_out, lens = nn.utils.rnn.pad_packed_sequence(packed_out)\n",
    "        \n",
    "        avg_pool = F.adaptive_avg_pool1d(lstm_out.permute((1,2,0)), 1).squeeze()\n",
    "        max_pool = F.adaptive_max_pool1d(lstm_out.permute((1,2,0)), 1).squeeze()\n",
    "        \n",
    "        hidden_st = hidden_st.view(hidden_st.shape[1], -1)\n",
    "        \n",
    "        combined = torch.cat([max_pool, avg_pool, hidden_st], dim=1)\n",
    "        return self.linear(combined)"
   ]
  },
  {
   "cell_type": "markdown",
   "metadata": {},
   "source": [
    "### Testing"
   ]
  },
  {
   "cell_type": "code",
   "execution_count": 80,
   "metadata": {},
   "outputs": [],
   "source": [
    "model = GloveConcatModel(proc_num.vocab, glove_eng, num_layers=3)"
   ]
  },
  {
   "cell_type": "code",
   "execution_count": 81,
   "metadata": {},
   "outputs": [
    {
     "name": "stdout",
     "output_type": "stream",
     "text": [
      "7.12 s ± 123 ms per loop (mean ± std. dev. of 7 runs, 1 loop each)\n"
     ]
    }
   ],
   "source": [
    "%timeit y = model(x1)"
   ]
  },
  {
   "cell_type": "code",
   "execution_count": null,
   "metadata": {},
   "outputs": [],
   "source": []
  },
  {
   "cell_type": "markdown",
   "metadata": {},
   "source": [
    "## Training"
   ]
  },
  {
   "cell_type": "code",
   "execution_count": 41,
   "metadata": {},
   "outputs": [],
   "source": [
    "def get_params(model):\n",
    "    emb, wgts, biases = [],[],[]\n",
    "    for name, param in model.named_parameters():\n",
    "        if ('embedding' in name.split('.')):\n",
    "            emb.append(param)\n",
    "        elif ('weight' in name.split('.')):\n",
    "            wgts.append(param)\n",
    "        elif ('bias' in name.split('.')):\n",
    "            biases.append(param)\n",
    "    return emb, wgts, biases"
   ]
  },
  {
   "cell_type": "code",
   "execution_count": 42,
   "metadata": {},
   "outputs": [],
   "source": [
    "def pg_dicts(pgs):\n",
    "    return [{'params': p} for p in pgs]"
   ]
  },
  {
   "cell_type": "code",
   "execution_count": 45,
   "metadata": {},
   "outputs": [],
   "source": [
    "def get_basic(Model, num_layers=1, disc_train=False):\n",
    "    model = Model(proc_num.vocab, glove_eng,num_layers=num_layers)\n",
    "    loss_func = nn.CrossEntropyLoss()\n",
    "    if disc_train:\n",
    "        pgs = pg_dicts(get_params(model))\n",
    "        opt = torch.optim.Adam(pgs, lr=1e-3)\n",
    "    else:\n",
    "        opt = torch.optim.AdamW(model.parameters(), lr=1e-3)\n",
    "    return model, loss_func, opt"
   ]
  },
  {
   "cell_type": "code",
   "execution_count": 46,
   "metadata": {},
   "outputs": [],
   "source": [
    "finder = Trainer(imdb_data,*get_basic(GloveConcatModel, num_layers=2),\n",
    "                 cb_funcs=[LR_Find,Recorder,CudaCallback])"
   ]
  },
  {
   "cell_type": "code",
   "execution_count": 47,
   "metadata": {},
   "outputs": [],
   "source": [
    "finder.fit()"
   ]
  },
  {
   "cell_type": "code",
   "execution_count": 48,
   "metadata": {},
   "outputs": [
    {
     "data": {
      "image/png": "[encoded data removed]",
      "text/plain": [
       "<Figure size 432x288 with 1 Axes>"
      ]
     },
     "metadata": {
      "needs_background": "light"
     },
     "output_type": "display_data"
    }
   ],
   "source": [
    "finder.recorder.plot(skip_last=1)"
   ]
  },
  {
   "cell_type": "code",
   "execution_count": 49,
   "metadata": {},
   "outputs": [],
   "source": [
    "sched = combine_scheds([0.3, 0.7], [sched_cos(1e-4, 3e-3), sched_cos(3e-3, 3e-5)])"
   ]
  },
  {
   "cell_type": "code",
   "execution_count": 50,
   "metadata": {},
   "outputs": [],
   "source": [
    "sched_emb = combine_scheds([0.3, 0.7], [sched_cos(3e-5, 5e-4), sched_cos(5e-4, 3e-5)])\n",
    "sched_wgts = combine_scheds([0.3, 0.7], [sched_cos(3e-4, 1e-3), sched_cos(1e-3, 3e-5)])\n",
    "sched_biases = combine_scheds([0.3, 0.7], [sched_cos(3e-3, 1e-2), sched_cos(1e-2, 3e-4)])"
   ]
  },
  {
   "cell_type": "code",
   "execution_count": 51,
   "metadata": {},
   "outputs": [],
   "source": [
    "trainer = Trainer(imdb_data, *get_basic(GloveConcatModel, num_layers=2,\n",
    "                                        disc_train=False),\n",
    "    cb_funcs=[\n",
    "    partial(AvgStatsCallback, [accuracy]),\n",
    "    partial(ParamScheduler,'lr', [sched]),\n",
    "    partial(GradientClipping, clip=0.1),\n",
    "    ProgressCallback,\n",
    "    CudaCallback,\n",
    "    Recorder\n",
    "])"
   ]
  },
  {
   "cell_type": "code",
   "execution_count": 52,
   "metadata": {},
   "outputs": [
    {
     "data": {
      "text/html": [
       "<table border=\"1\" class=\"dataframe\">\n",
       "  <thead>\n",
       "    <tr style=\"text-align: left;\">\n",
       "      <th>epoch</th>\n",
       "      <th>train_loss</th>\n",
       "      <th>train_accuracy</th>\n",
       "      <th>valid_loss</th>\n",
       "      <th>valid_accuracy</th>\n",
       "      <th>time</th>\n",
       "    </tr>\n",
       "  </thead>\n",
       "  <tbody>\n",
       "    <tr>\n",
       "      <td>0</td>\n",
       "      <td>0.440455</td>\n",
       "      <td>0.774560</td>\n",
       "      <td>0.251396</td>\n",
       "      <td>0.901520</td>\n",
       "      <td>01:39</td>\n",
       "    </tr>\n",
       "    <tr>\n",
       "      <td>1</td>\n",
       "      <td>0.220803</td>\n",
       "      <td>0.914960</td>\n",
       "      <td>0.236589</td>\n",
       "      <td>0.906240</td>\n",
       "      <td>01:40</td>\n",
       "    </tr>\n",
       "    <tr>\n",
       "      <td>2</td>\n",
       "      <td>0.080286</td>\n",
       "      <td>0.974080</td>\n",
       "      <td>0.328166</td>\n",
       "      <td>0.899000</td>\n",
       "      <td>01:40</td>\n",
       "    </tr>\n",
       "  </tbody>\n",
       "</table>"
      ],
      "text/plain": [
       "<IPython.core.display.HTML object>"
      ]
     },
     "metadata": {},
     "output_type": "display_data"
    }
   ],
   "source": [
    "trainer.fit()"
   ]
  },
  {
   "cell_type": "code",
   "execution_count": null,
   "metadata": {},
   "outputs": [],
   "source": [
    "import matplotlib.pyplot as plt\n",
    "\n",
    "plt.plot(trainer.recorder.lrs[0])\n",
    "plt.plot(trainer.recorder.lrs[1])\n",
    "plt.plot(trainer.recorder.lrs[2])\n",
    "plt.legend(['emb','wgts','biases']);"
   ]
  },
  {
   "cell_type": "code",
   "execution_count": null,
   "metadata": {},
   "outputs": [],
   "source": []
  }
 ],
 "metadata": {
  "kernelspec": {
   "display_name": "Python 3",
   "language": "python",
   "name": "python3"
  },
  "language_info": {
   "codemirror_mode": {
    "name": "ipython",
    "version": 3
   },
   "file_extension": ".py",
   "mimetype": "text/x-python",
   "name": "python",
   "nbconvert_exporter": "python",
   "pygments_lexer": "ipython3",
   "version": "3.7.2"
  }
 },
 "nbformat": 4,
 "nbformat_minor": 2
}
