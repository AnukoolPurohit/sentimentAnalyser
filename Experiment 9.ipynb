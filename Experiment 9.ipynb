{
 "cells": [
  {
   "cell_type": "code",
   "execution_count": null,
   "metadata": {},
   "outputs": [],
   "source": [
    "%reload_ext autoreload\n",
    "%autoreload 2\n",
    "%matplotlib inline"
   ]
  },
  {
   "cell_type": "code",
   "execution_count": null,
   "metadata": {},
   "outputs": [],
   "source": [
    "from sentimentanalyser.utils.data import Path, pad_collate, grandparent_splitter\n",
    "from sentimentanalyser.utils.data import parent_labeler\n",
    "from sentimentanalyser.data.text import TextList, SplitData\n",
    "from sentimentanalyser.utils.files import pickle_dump, pickle_load"
   ]
  },
  {
   "cell_type": "code",
   "execution_count": null,
   "metadata": {},
   "outputs": [],
   "source": [
    "from sentimentanalyser.preprocessing.processor import TokenizerProcessor\n",
    "from sentimentanalyser.preprocessing.processor import NuemericalizeProcessor\n",
    "from sentimentanalyser.utils.data import read_wiki"
   ]
  },
  {
   "cell_type": "code",
   "execution_count": null,
   "metadata": {},
   "outputs": [],
   "source": [
    "from functools import partial"
   ]
  },
  {
   "cell_type": "code",
   "execution_count": null,
   "metadata": {},
   "outputs": [],
   "source": [
    "path_imdb = Path(\"/home/anukoolpurohit/Documents/AnukoolPurohit/Datasets/imdb\")"
   ]
  },
  {
   "cell_type": "code",
   "execution_count": null,
   "metadata": {},
   "outputs": [],
   "source": [
    "path_wiki = Path(\"/home/anukoolpurohit/Documents/AnukoolPurohit/Datasets/wikitext-103\")"
   ]
  },
  {
   "cell_type": "code",
   "execution_count": null,
   "metadata": {},
   "outputs": [],
   "source": [
    "proc_tok = TokenizerProcessor()\n",
    "proc_num = NuemericalizeProcessor()"
   ]
  },
  {
   "cell_type": "code",
   "execution_count": null,
   "metadata": {},
   "outputs": [],
   "source": [
    "# train = TextList(read_wiki(path_wiki/'train.txt'), path_wiki)\n",
    "# valid = TextList(read_wiki(path_wiki/'valid.txt'), path_wiki)\n",
    "\n",
    "# len(train), len(valid)\n",
    "\n",
    "# sd_wiki = SplitData(train, valid)\n",
    "\n",
    "# lm_wiki = sd_wiki.label_by_func(lambda x:0, proc_x=[proc_tok, proc_num])\n",
    "\n",
    "# pickle_dump(lm_wiki, 'dumps/variable/ll_wiki.pickle')"
   ]
  },
  {
   "cell_type": "code",
   "execution_count": null,
   "metadata": {},
   "outputs": [],
   "source": [
    "lm_wiki = pickle_load('dumps/variable/ll_wiki.pickle')"
   ]
  },
  {
   "cell_type": "code",
   "execution_count": null,
   "metadata": {},
   "outputs": [],
   "source": [
    "bs, bptt = 32, 70\n",
    "wiki_data = lm_wiki.lm_databunchify(bs, bptt)"
   ]
  },
  {
   "cell_type": "code",
   "execution_count": null,
   "metadata": {},
   "outputs": [],
   "source": [
    "vocab = lm_wiki.train.proc_x[-1].vocab\n",
    "len(vocab)"
   ]
  },
  {
   "cell_type": "code",
   "execution_count": null,
   "metadata": {},
   "outputs": [],
   "source": [
    "x1,y1 = next(iter(wiki_data.train_dl))"
   ]
  },
  {
   "cell_type": "markdown",
   "metadata": {},
   "source": [
    "## Model"
   ]
  },
  {
   "cell_type": "code",
   "execution_count": null,
   "metadata": {},
   "outputs": [],
   "source": [
    "import torch\n",
    "import torch.nn.functional as F\n",
    "from torch import nn"
   ]
  },
  {
   "cell_type": "code",
   "execution_count": null,
   "metadata": {},
   "outputs": [],
   "source": [
    "from sentimentanalyser.models.regularization import WeightDropout"
   ]
  },
  {
   "cell_type": "code",
   "execution_count": null,
   "metadata": {},
   "outputs": [],
   "source": [
    "from sentimentanalyser.utils.dev import print_dims\n",
    "from sentimentanalyser.utils.models import get_info"
   ]
  },
  {
   "cell_type": "code",
   "execution_count": null,
   "metadata": {},
   "outputs": [],
   "source": [
    "from exp.nb_12a import AWD_LSTM, get_language_model, RNNTrainer\n",
    "from exp.nb_12a import RNNDropout, EmbeddingDropout\n",
    "from exp.nb_12a import LinearDecoder as LinD"
   ]
  },
  {
   "cell_type": "code",
   "execution_count": null,
   "metadata": {},
   "outputs": [],
   "source": [
    "def display_y(y):\n",
    "    if isinstance(y, (list, tuple)):\n",
    "        print(\"------------------\")\n",
    "        for yi in y:\n",
    "                display_y(yi)\n",
    "    else:\n",
    "        print_dims(\"tensor\", y)"
   ]
  },
  {
   "cell_type": "markdown",
   "metadata": {},
   "source": [
    "### Dropouts"
   ]
  },
  {
   "cell_type": "code",
   "execution_count": null,
   "metadata": {},
   "outputs": [],
   "source": [
    "def dropout_mask(x, sz, p):\n",
    "    return x.new(*sz).bernoulli_(1-p).div_(1-p)"
   ]
  },
  {
   "cell_type": "code",
   "execution_count": null,
   "metadata": {},
   "outputs": [],
   "source": [
    "ones = torch.ones(4, 4, 4); ones"
   ]
  },
  {
   "cell_type": "code",
   "execution_count": null,
   "metadata": {},
   "outputs": [],
   "source": [
    "mask = dropout_mask(ones, (4, 1, 4), 0.5); mask"
   ]
  },
  {
   "cell_type": "code",
   "execution_count": null,
   "metadata": {},
   "outputs": [],
   "source": [
    "ones * mask"
   ]
  },
  {
   "cell_type": "code",
   "execution_count": null,
   "metadata": {},
   "outputs": [],
   "source": [
    "class RNNDropout(nn.Module):\n",
    "    def __init__(self, dropout=0.5):\n",
    "        super().__init__()\n",
    "        self.dropout = dropout\n",
    "    \n",
    "    def forward(self, inp):  \n",
    "        if not self.training or self.dropout == 0.:\n",
    "            return inp\n",
    "        bs , seq_len, vocab_size = inp.size()\n",
    "        mask = dropout_mask(inp.data, (bs, 1, vocab_size), self.dropout)\n",
    "        return inp * mask"
   ]
  },
  {
   "cell_type": "code",
   "execution_count": null,
   "metadata": {},
   "outputs": [],
   "source": [
    "class EmbeddingsWithDropout(nn.Module):\n",
    "    def __init__(self, embeddings, embeddings_dropout):\n",
    "        super().__init__()\n",
    "        self.embeddings = embeddings\n",
    "        self.embeddings_dropout = embeddings_dropout\n",
    "        self.padding_idx = self.embeddings.padding_idx\n",
    "        if self.padding_idx is None:\n",
    "            self.padding_idx = -1\n",
    "    \n",
    "    def forward(self, words, scale=None):\n",
    "        if self.training and self.embeddings_dropout != 0:\n",
    "            vocab_length, embedding_size = self.embeddings.weight.size()\n",
    "            mask = dropout_mask(self.embeddings.weight.data,\n",
    "                                (vocab_length, 1),\n",
    "                                self.embeddings_dropout)\n",
    "            \n",
    "            masked_embeddings = self.embeddings.weight * mask\n",
    "            \n",
    "        else:\n",
    "            masked_embeddings = self.embeddings.weight\n",
    "        \n",
    "        return F.embedding(words, masked_embeddings, self.padding_idx,\n",
    "                           self.embeddings.max_norm, self.embeddings.norm_type,\n",
    "                           self.embeddings.scale_grad_by_freq, self.embeddings.sparse)\n",
    "            "
   ]
  },
  {
   "cell_type": "markdown",
   "metadata": {},
   "source": [
    "### Encoder model"
   ]
  },
  {
   "cell_type": "code",
   "execution_count": null,
   "metadata": {},
   "outputs": [],
   "source": [
    "class EncoderAWDModel(nn.Module):\n",
    "    def __init__(self, vocab_size, emb_sz=300, hidden_sz=256, dropout=0.5,\n",
    "                 pad_idx=1, num_layers=2):\n",
    "        super().__init__()\n",
    "        \n",
    "        self.pad_idx = pad_idx\n",
    "        \n",
    "        self.embeddings = nn.Embedding(vocab_size, emb_sz,\n",
    "                                       padding_idx=pad_idx)\n",
    "        \n",
    "        self.embeddings_dp = EmbeddingsWithDropout(self.embeddings, 0.004)\n",
    "        \n",
    "        self.inp_dp  = RNNDropout(0.05)\n",
    "        \n",
    "        self.dropout = nn.Dropout(dropout)\n",
    "        \n",
    "        self. rnn    = WeightDropout(nn.LSTM(emb_sz,\n",
    "                                             hidden_sz,\n",
    "                                             batch_first=True,\n",
    "                                             dropout=0.03,\n",
    "                                             num_layers=num_layers,\n",
    "                                             bidirectional=False),0.04)\n",
    "        return\n",
    "    \n",
    "    def forward(self, xb):\n",
    "        seq_lens, mask = get_info(xb)\n",
    "        \n",
    "        embedded = self.inp_dp(self.embeddings_dp(xb))\n",
    "        \n",
    "        packed = nn.utils.rnn.pack_padded_sequence(embedded, seq_lens,\n",
    "                                                   batch_first=True)\n",
    "        \n",
    "        packed_out, (hidden_st, cell_st) = self.rnn(packed)\n",
    "        \n",
    "        lstm_out, lens = nn.utils.rnn.pad_packed_sequence(packed_out, batch_first=True)\n",
    "        return lstm_out, hidden_st , cell_st"
   ]
  },
  {
   "cell_type": "markdown",
   "metadata": {},
   "source": [
    "### Decoder"
   ]
  },
  {
   "cell_type": "code",
   "execution_count": null,
   "metadata": {},
   "outputs": [],
   "source": [
    "class LinearDecoder(nn.Module):\n",
    "    def __init__(self, hidden_sz, output_sz, tie_encoder=None, bias=True):\n",
    "        super().__init__()\n",
    "        self.output_dp = RNNDropout(0.02)\n",
    "        self.decoder = nn.Linear(hidden_sz, output_sz, bias=bias)\n",
    "        if bias: self.decoder.bias.data.zero_()\n",
    "        if tie_encoder: self.decoder.weight = tie_encoder.weight\n",
    "        else: nn.init.kaiming_uniform_(self.decoder.weight)\n",
    "    \n",
    "    def forward(self, input):\n",
    "        outputs, hidden_st, cell_st = input\n",
    "        raw_outputs = outputs\n",
    "        outputs = self.output_dp(outputs)\n",
    "        decoded = self.decoder(outputs)\n",
    "        return decoded, outputs, raw_outputs"
   ]
  },
  {
   "cell_type": "markdown",
   "metadata": {},
   "source": [
    "### Language model Classifier"
   ]
  },
  {
   "cell_type": "code",
   "execution_count": null,
   "metadata": {},
   "outputs": [],
   "source": [
    "class LMClassifierModel(nn.Module):\n",
    "    def __init__(self, vocab_sz, emb_sz=300, hidden_sz=300, output_sz=1, dropout=0.5,\n",
    "                 pad_idx=1, num_layers=2):\n",
    "        super().__init__()\n",
    "        self.encoder = EncoderAWDModel(vocab_sz, emb_sz, hidden_sz, dropout, pad_idx,\n",
    "                                num_layers)\n",
    "        self.decoder = LinearDecoder(hidden_sz, vocab_sz, tie_encoder=self.encoder.embeddings)\n",
    "        return\n",
    "    \n",
    "    def forward(self, xb):\n",
    "        output_enc = self.encoder(xb)\n",
    "        output_dec = self.decoder(output_enc)\n",
    "        return output_dec"
   ]
  },
  {
   "cell_type": "code",
   "execution_count": null,
   "metadata": {},
   "outputs": [],
   "source": [
    "model = LMClassifierModel(len(vocab))"
   ]
  },
  {
   "cell_type": "code",
   "execution_count": null,
   "metadata": {},
   "outputs": [],
   "source": [
    "y_main = model(x1)"
   ]
  },
  {
   "cell_type": "code",
   "execution_count": null,
   "metadata": {},
   "outputs": [],
   "source": [
    "display_y(y_main)"
   ]
  },
  {
   "cell_type": "markdown",
   "metadata": {},
   "source": [
    "### alt model"
   ]
  },
  {
   "cell_type": "code",
   "execution_count": null,
   "metadata": {},
   "outputs": [],
   "source": [
    "from sentimentanalyser.preprocessing.tokens import TOKENS"
   ]
  },
  {
   "cell_type": "code",
   "execution_count": null,
   "metadata": {},
   "outputs": [],
   "source": [
    "import numpy as np"
   ]
  },
  {
   "cell_type": "code",
   "execution_count": null,
   "metadata": {},
   "outputs": [],
   "source": [
    "dps = np.array([0.1, 0.15, 0.25, 0.02, 0.2]) * 0.2\n",
    "tok_pad = vocab.index(TOKENS.PAD)"
   ]
  },
  {
   "cell_type": "code",
   "execution_count": null,
   "metadata": {},
   "outputs": [],
   "source": [
    "alt_model = get_language_model(len(vocab), 300, 356, 2, tok_pad, *dps)"
   ]
  },
  {
   "cell_type": "code",
   "execution_count": null,
   "metadata": {},
   "outputs": [],
   "source": [
    "y = alt_model(x1)"
   ]
  },
  {
   "cell_type": "code",
   "execution_count": null,
   "metadata": {},
   "outputs": [],
   "source": [
    "display_y(y)"
   ]
  },
  {
   "cell_type": "markdown",
   "metadata": {},
   "source": [
    "## Loss function and accuracy flat"
   ]
  },
  {
   "cell_type": "code",
   "execution_count": null,
   "metadata": {},
   "outputs": [],
   "source": [
    "def cross_entropy_flat(input, target):\n",
    "    bs, sl = target.size()\n",
    "    return F.cross_entropy(input.view(bs * sl, -1), target.view(bs * sl))"
   ]
  },
  {
   "cell_type": "code",
   "execution_count": null,
   "metadata": {},
   "outputs": [],
   "source": [
    "def accuracy_flat(input, target):\n",
    "    bs, sl = target.size()\n",
    "    return accuracy(input.view(bs * sl, -1), target.view(bs * sl))"
   ]
  },
  {
   "cell_type": "markdown",
   "metadata": {},
   "source": [
    "## Training"
   ]
  },
  {
   "cell_type": "code",
   "execution_count": null,
   "metadata": {},
   "outputs": [],
   "source": [
    "from sentimentanalyser.callbacks.core import Callback"
   ]
  },
  {
   "cell_type": "code",
   "execution_count": null,
   "metadata": {},
   "outputs": [],
   "source": [
    "class RNNCustomTrainer(Callback):\n",
    "    def __init__(self, α, β):\n",
    "        self.α = α\n",
    "        self.β = β\n",
    "        \n",
    "    def after_pred(self):\n",
    "        self.out, self.raw_out = self.preds[1], self.preds[2]\n",
    "        self.trainer.preds = self.trainer.preds[0]\n",
    "    \n",
    "    def after_loss(self):\n",
    "        if self.α != 0.:\n",
    "            self.trainer.loss += self.α * self.out.float().pow(2).mean()\n",
    "        \n",
    "        if self.β != 0.:\n",
    "            h = self.raw_out\n",
    "            if len(h) > 1:\n",
    "                self.trainer.loss += self.β * (h[:,1:] - h[:,:-1]).float().pow(2).mean()\n",
    "    def begin_epoch(self):\n",
    "        if hasattr(self.dl.dataset, \"batchify\"):\n",
    "            self.dl.dataset.batchify()"
   ]
  },
  {
   "cell_type": "code",
   "execution_count": null,
   "metadata": {},
   "outputs": [],
   "source": [
    "from sentimentanalyser.optimizers import adam_opt\n",
    "from sentimentanalyser.utils.metrics import accuracy\n",
    "from sentimentanalyser.utils.callbacks import combine_scheds, sched_cos, cos_1cycle_anneal\n",
    "from sentimentanalyser.utils.callbacks import create_phases"
   ]
  },
  {
   "cell_type": "code",
   "execution_count": null,
   "metadata": {},
   "outputs": [],
   "source": [
    "def get_basic(Model, vocab):\n",
    "    model = Model(len(vocab))\n",
    "    loss_func = cross_entropy_flat\n",
    "    opt = adam_opt()(model.parameters())\n",
    "    return model, loss_func, opt"
   ]
  },
  {
   "cell_type": "code",
   "execution_count": null,
   "metadata": {},
   "outputs": [],
   "source": [
    "def get_alt():\n",
    "    model = get_language_model(len(vocab), 300, 356, 2, tok_pad, *dps)\n",
    "    loss_func = cross_entropy_flat\n",
    "    opt = adam_opt()(model.parameters())\n",
    "    return model, loss_func, opt"
   ]
  },
  {
   "cell_type": "code",
   "execution_count": null,
   "metadata": {},
   "outputs": [],
   "source": [
    "sched = combine_scheds([0.3, 0.7], [sched_cos(1e-4, 1e-3), sched_cos(1e-3, 3e-5)])"
   ]
  },
  {
   "cell_type": "code",
   "execution_count": null,
   "metadata": {},
   "outputs": [],
   "source": [
    "from sentimentanalyser.utils.callbacks import sched_cos, combine_scheds\n",
    "from sentimentanalyser.callbacks.training import LRFind, CudaCallback, GradientClipping\n",
    "from sentimentanalyser.callbacks.progress import ProgressCallback\n",
    "from sentimentanalyser.callbacks.scheduler import ParamSchedulerCustom\n",
    "from sentimentanalyser.callbacks.stats import AvgStatsCallback\n",
    "from sentimentanalyser.callbacks.recorder import RecorderCustom\n",
    "from sentimentanalyser.training.trainer import Trainer"
   ]
  },
  {
   "cell_type": "code",
   "execution_count": null,
   "metadata": {},
   "outputs": [],
   "source": [
    "cbs1 = [partial(AvgStatsCallback, [accuracy_flat]),\n",
    "       partial(ParamSchedulerCustom,'lr', [sched]),\n",
    "       partial(GradientClipping, clip=0.1),\n",
    "       ProgressCallback,\n",
    "       CudaCallback,\n",
    "       partial(RNNCustomTrainer, α=2., β=1.),\n",
    "       RecorderCustom]"
   ]
  },
  {
   "cell_type": "code",
   "execution_count": null,
   "metadata": {},
   "outputs": [],
   "source": [
    "cbs2 = [partial(AvgStatsCallback,accuracy_flat),\n",
    "       CudaCallback, RecorderCustom,\n",
    "       partial(ParamSchedulerCustom,'lr', [sched]),\n",
    "       partial(GradientClipping, clip=0.1),\n",
    "       partial(RNNTrainer, α=2., β=1.),\n",
    "       ProgressCallback]"
   ]
  },
  {
   "cell_type": "code",
   "execution_count": null,
   "metadata": {},
   "outputs": [],
   "source": [
    "trainer1 = Trainer(wiki_data, *get_basic(LMClassifierModel, vocab), cb_funcs=cbs1)"
   ]
  },
  {
   "cell_type": "code",
   "execution_count": null,
   "metadata": {},
   "outputs": [],
   "source": [
    "trainer1.fit()"
   ]
  },
  {
   "cell_type": "code",
   "execution_count": null,
   "metadata": {},
   "outputs": [],
   "source": [
    "#trainer2 = Trainer(wiki_data, *get_alt(), cb_funcs=cbs2)"
   ]
  },
  {
   "cell_type": "code",
   "execution_count": null,
   "metadata": {},
   "outputs": [],
   "source": [
    "#trainer2.fit()"
   ]
  },
  {
   "cell_type": "code",
   "execution_count": null,
   "metadata": {},
   "outputs": [],
   "source": []
  }
 ],
 "metadata": {
  "kernelspec": {
   "display_name": "Python 3",
   "language": "python",
   "name": "python3"
  },
  "language_info": {
   "codemirror_mode": {
    "name": "ipython",
    "version": 3
   },
   "file_extension": ".py",
   "mimetype": "text/x-python",
   "name": "python",
   "nbconvert_exporter": "python",
   "pygments_lexer": "ipython3",
   "version": "3.7.2"
  },
  "toc": {
   "base_numbering": 1,
   "nav_menu": {},
   "number_sections": true,
   "sideBar": true,
   "skip_h1_title": false,
   "title_cell": "Table of Contents",
   "title_sidebar": "Contents",
   "toc_cell": false,
   "toc_position": {},
   "toc_section_display": true,
   "toc_window_display": false
  }
 },
 "nbformat": 4,
 "nbformat_minor": 4
}
