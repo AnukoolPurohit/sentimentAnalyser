{
 "cells": [
  {
   "cell_type": "code",
   "execution_count": 1,
   "metadata": {},
   "outputs": [],
   "source": [
    "%reload_ext autoreload\n",
    "%autoreload 2\n",
    "%matplotlib inline"
   ]
  },
  {
   "cell_type": "code",
   "execution_count": 2,
   "metadata": {},
   "outputs": [],
   "source": [
    "from sentimentanalyser.utils.data  import Path, pad_collate, grandparent_splitter\n",
    "from sentimentanalyser.utils.data  import parent_labeler, listify\n",
    "from sentimentanalyser.data.text   import TextList, ItemList, SplitData\n",
    "from sentimentanalyser.utils.files import pickle_dump, pickle_load\n",
    "\n",
    "from sentimentanalyser.preprocessing.processor import TokenizerProcessor, NuemericalizeProcessor\n",
    "from sentimentanalyser.preprocessing.processor import CategoryProcessor"
   ]
  },
  {
   "cell_type": "code",
   "execution_count": 3,
   "metadata": {},
   "outputs": [],
   "source": [
    "from functools import partial"
   ]
  },
  {
   "cell_type": "code",
   "execution_count": 4,
   "metadata": {},
   "outputs": [],
   "source": [
    "path_imdb = Path(\"/home/anukoolpurohit/Documents/AnukoolPurohit/Datasets/imdb\")"
   ]
  },
  {
   "cell_type": "code",
   "execution_count": 5,
   "metadata": {},
   "outputs": [],
   "source": [
    "proc_tok = TokenizerProcessor()\n",
    "proc_num = NuemericalizeProcessor()\n",
    "proc_cat = CategoryProcessor()"
   ]
  },
  {
   "cell_type": "code",
   "execution_count": 6,
   "metadata": {},
   "outputs": [
    {
     "data": {
      "application/vnd.jupyter.widget-view+json": {
       "model_id": "8feee55922b145a2864d0d0775d99a1d",
       "version_major": 2,
       "version_minor": 0
      },
      "text/plain": [
       "HBox(children=(IntProgress(value=0, max=13), HTML(value='')))"
      ]
     },
     "metadata": {},
     "output_type": "display_data"
    },
    {
     "name": "stdout",
     "output_type": "stream",
     "text": [
      "\n"
     ]
    },
    {
     "data": {
      "application/vnd.jupyter.widget-view+json": {
       "model_id": "f77dd7d0599b425d896c30af52cca49f",
       "version_major": 2,
       "version_minor": 0
      },
      "text/plain": [
       "HBox(children=(IntProgress(value=0, max=13), HTML(value='')))"
      ]
     },
     "metadata": {},
     "output_type": "display_data"
    },
    {
     "name": "stdout",
     "output_type": "stream",
     "text": [
      "\n"
     ]
    },
    {
     "data": {
      "application/vnd.jupyter.widget-view+json": {
       "model_id": "4373ff6deda74953b95ed543c8763543",
       "version_major": 2,
       "version_minor": 0
      },
      "text/plain": [
       "HBox(children=(IntProgress(value=1, bar_style='info', max=1), HTML(value='')))"
      ]
     },
     "metadata": {},
     "output_type": "display_data"
    },
    {
     "name": "stdout",
     "output_type": "stream",
     "text": [
      "\n"
     ]
    }
   ],
   "source": [
    "tl_imdb = TextList.from_files(path=path_imdb, folders=['train','test'])\n",
    "sd_imdb = tl_imdb.split_by_func(partial(grandparent_splitter, valid_name='test'))\n",
    "ll_imdb = sd_imdb.label_by_func(parent_labeler, proc_x=[proc_tok, proc_num], proc_y=proc_cat)"
   ]
  },
  {
   "cell_type": "code",
   "execution_count": 7,
   "metadata": {},
   "outputs": [],
   "source": [
    "pickle_dump(ll_imdb, 'dumps/variable/ll_imdb.pickle')"
   ]
  },
  {
   "cell_type": "code",
   "execution_count": 8,
   "metadata": {},
   "outputs": [],
   "source": [
    "ll_imdb = pickle_load('dumps/variable/ll_imdb.pickle')"
   ]
  },
  {
   "cell_type": "code",
   "execution_count": 9,
   "metadata": {},
   "outputs": [],
   "source": [
    "imdb_data = ll_imdb.clas_databunchify(64)"
   ]
  },
  {
   "cell_type": "code",
   "execution_count": 12,
   "metadata": {},
   "outputs": [],
   "source": [
    "from sentimentanalyser.utils.callbacks import sched_cos, combine_scheds\n",
    "from sentimentanalyser.callbacks.training import LR_Find, CudaCallback\n",
    "from sentimentanalyser.callbacks.progress import ProgressCallback\n",
    "from sentimentanalyser.callbacks.scheduler import ParamScheduler\n",
    "from sentimentanalyser.callbacks.stats import AvgStatsCallback\n",
    "from sentimentanalyser.callbacks.recorder import Recorder\n",
    "from sentimentanalyser.training.trainer import Trainer"
   ]
  },
  {
   "cell_type": "code",
   "execution_count": 13,
   "metadata": {},
   "outputs": [],
   "source": [
    "from sentimentanalyser.utils.metrics import accuracy\n",
    "from sentimentanalyser.callbacks.core import Callback"
   ]
  },
  {
   "cell_type": "code",
   "execution_count": 14,
   "metadata": {},
   "outputs": [],
   "source": [
    "import torch\n",
    "import torchtext\n",
    "import torch.nn.functional as F\n",
    "from torch import nn"
   ]
  },
  {
   "cell_type": "markdown",
   "metadata": {},
   "source": [
    "#### some helper functions and variables"
   ]
  },
  {
   "cell_type": "code",
   "execution_count": 15,
   "metadata": {},
   "outputs": [],
   "source": [
    "def get_lens_and_masks(x, pad_id=1):\n",
    "    mask = (x == pad_id)\n",
    "    lenghts = x.size(1) - (x == pad_id).sum(1)\n",
    "    return lenghts, mask"
   ]
  },
  {
   "cell_type": "code",
   "execution_count": 16,
   "metadata": {},
   "outputs": [],
   "source": [
    "def print_dims(name, tensor):\n",
    "    print(f'size of {name} is {tensor.shape}')"
   ]
  },
  {
   "cell_type": "code",
   "execution_count": 17,
   "metadata": {},
   "outputs": [],
   "source": [
    "x1, y1 = next(iter(imdb_data.train_dl))"
   ]
  },
  {
   "cell_type": "markdown",
   "metadata": {},
   "source": [
    "## Models"
   ]
  },
  {
   "cell_type": "markdown",
   "metadata": {},
   "source": [
    "### Simple LSTM model"
   ]
  },
  {
   "cell_type": "code",
   "execution_count": 20,
   "metadata": {},
   "outputs": [],
   "source": [
    "class SimpleLSTMModel(nn.Module):\n",
    "    def __init__(self, vocab_size=proc_num.vocab_size, embedding_size=50,\n",
    "                 hidden_size=50, output_size=2, dropout_rate=0.5,\n",
    "                 pad_idx=1, num_layers=1):\n",
    "        super().__init__()\n",
    "        self.embedding = nn.Embedding(vocab_size, embedding_size,padding_idx=pad_idx)\n",
    "        self.lstm      = nn.LSTM(hidden_size, hidden_size,\n",
    "                                 batch_first=True)\n",
    "        self.dropout   = nn.Dropout(dropout_rate)\n",
    "        self.linear    = nn.Linear(hidden_size, output_size)\n",
    "    \n",
    "    def forward(self, xb):\n",
    "        seq_lens, mask = get_lens_and_masks(xb)\n",
    "        \n",
    "        embedded = self.embedding(xb)\n",
    "        embedded = self.dropout(embedded)\n",
    "        \n",
    "        packed_emb = nn.utils.rnn.pack_padded_sequence(embedded, seq_lens,\n",
    "                                                       batch_first=True)\n",
    "        \n",
    "        packed_out,(hidden_state,cell_state) = self.lstm(packed_emb)\n",
    "        out = self.linear(hidden_state.squeeze(0))\n",
    "        return out"
   ]
  },
  {
   "cell_type": "markdown",
   "metadata": {},
   "source": [
    "### Bidirectional multi-layered LSTM"
   ]
  },
  {
   "cell_type": "code",
   "execution_count": 21,
   "metadata": {},
   "outputs": [],
   "source": [
    "class WordSentenceAttention(nn.Module):\n",
    "    def __init__(self, hidden_sz):\n",
    "        super().__init__()\n",
    "        self.hidden_sz = hidden_sz\n",
    "        self.context_weight     = nn.Parameter(torch.Tensor(hidden_sz).uniform_(-0.1,0.1))\n",
    "        self.context_projection = nn.Linear(hidden_sz, hidden_sz)\n",
    "    \n",
    "    def forward(self, context):\n",
    "        context_proj = torch.tanh(self.context_projection(context))\n",
    "        αt = context_proj.matmul(self.context_weight) # bs x seq_len\n",
    "        attn_score = F.softmax(αt, dim=1) # softmax on all words\n",
    "        attn_score = attn_score.unsqueeze(2)\n",
    "        context = context.transpose(1,2)\n",
    "        sentence = context.bmm(attn_score).squeeze(2)\n",
    "        return sentence"
   ]
  },
  {
   "cell_type": "code",
   "execution_count": 22,
   "metadata": {},
   "outputs": [],
   "source": [
    "class BiLSTMModel(nn.Module):\n",
    "    def __init__(self, vocab_sz=proc_num.vocab_size, embed_sz= 50,\n",
    "                 hidden_sz=50, output_sz=2, dropout=0.5, pad_idx=1,\n",
    "                 num_layers=2, bidirectional=True):\n",
    "        super().__init__()\n",
    "        \n",
    "        self.pad_idx = pad_idx\n",
    "        self.embededing = nn.Embedding(vocab_sz, embed_sz, padding_idx=pad_idx)\n",
    "        self.dropout    = nn.Dropout(dropout)\n",
    "        \n",
    "        self.rnn        = nn.LSTM(embed_sz, hidden_sz, batch_first=True,\n",
    "                                  bidirectional=bidirectional,\n",
    "                                  dropout=dropout,\n",
    "                                  num_layers=num_layers)\n",
    "        \n",
    "        self.bidir  = 2 if bidirectional else 1\n",
    "        \n",
    "        self.attn   = WordSentenceAttention(hidden_sz*self.bidir)\n",
    "        \n",
    "        self.linear = nn.Linear(self.bidir*hidden_sz, output_sz)\n",
    "        return\n",
    "    \n",
    "    def forward(self, xb):\n",
    "        seq_lens, mask = get_lens_and_masks(xb, self.pad_idx)\n",
    "        \n",
    "        embeded = self.embededing(xb)\n",
    "        packed_embd = nn.utils.rnn.pack_padded_sequence(embeded, seq_lens,\n",
    "                                                        batch_first=True)\n",
    "        packed_out, (hidden_s, cell_s) = self.rnn(packed_embd)\n",
    "        outputs,_  = nn.utils.rnn.pad_packed_sequence(packed_out, batch_first=True)\n",
    "        sentence = self.attn(outputs)\n",
    "        return self.linear(sentence)"
   ]
  },
  {
   "cell_type": "markdown",
   "metadata": {},
   "source": [
    "## Testing"
   ]
  },
  {
   "cell_type": "code",
   "execution_count": 23,
   "metadata": {},
   "outputs": [],
   "source": [
    "model = BiLSTMModel()"
   ]
  },
  {
   "cell_type": "code",
   "execution_count": 32,
   "metadata": {},
   "outputs": [],
   "source": [
    "a = nn.Embedding(50000, 100)"
   ]
  },
  {
   "cell_type": "code",
   "execution_count": 33,
   "metadata": {},
   "outputs": [
    {
     "data": {
      "text/plain": [
       "torch.Size([64, 3352, 100])"
      ]
     },
     "execution_count": 33,
     "metadata": {},
     "output_type": "execute_result"
    }
   ],
   "source": [
    "a(x1).shape"
   ]
  },
  {
   "cell_type": "markdown",
   "metadata": {},
   "source": [
    "## Training"
   ]
  },
  {
   "cell_type": "markdown",
   "metadata": {},
   "source": [
    "### Gradient Clipping"
   ]
  },
  {
   "cell_type": "code",
   "execution_count": null,
   "metadata": {},
   "outputs": [],
   "source": [
    "class GradientClipping(Callback):\n",
    "    def __init__(self, clip=None):\n",
    "        self.clip = clip\n",
    "    \n",
    "    def after_backward(self):\n",
    "        if self.clip:\n",
    "            nn.utils.clip_grad_norm_(self.trainer.model.parameters(), self.clip)"
   ]
  },
  {
   "cell_type": "code",
   "execution_count": null,
   "metadata": {},
   "outputs": [],
   "source": [
    "def get_basic(Model, num_layers=1):\n",
    "    model = Model(num_layers=num_layers)\n",
    "    loss_func = nn.CrossEntropyLoss()\n",
    "    opt = torch.optim.Adam(model.parameters(), lr=1e-3)\n",
    "    return model, loss_func, opt"
   ]
  },
  {
   "cell_type": "code",
   "execution_count": null,
   "metadata": {},
   "outputs": [],
   "source": [
    "sched = combine_scheds([0.3, 0.7], [sched_cos(3e-3, 1e-2), sched_cos(1e-2, 3e-5)])"
   ]
  },
  {
   "cell_type": "code",
   "execution_count": null,
   "metadata": {},
   "outputs": [],
   "source": [
    "trainer = Trainer(imdb_data, *get_basic(BiLSTMModel), cb_funcs=[\n",
    "    partial(AvgStatsCallback, [accuracy]),\n",
    "    partial(ParamScheduler,'lr', sched),\n",
    "    partial(GradientClipping, clip=0.1),\n",
    "    ProgressCallback,\n",
    "    CudaCallback,\n",
    "    Recorder\n",
    "])"
   ]
  },
  {
   "cell_type": "code",
   "execution_count": null,
   "metadata": {},
   "outputs": [],
   "source": [
    "trainer.fit()"
   ]
  },
  {
   "cell_type": "code",
   "execution_count": null,
   "metadata": {},
   "outputs": [],
   "source": [
    "proc_num.vocab"
   ]
  },
  {
   "cell_type": "code",
   "execution_count": null,
   "metadata": {},
   "outputs": [],
   "source": []
  }
 ],
 "metadata": {
  "kernelspec": {
   "display_name": "Python 3",
   "language": "python",
   "name": "python3"
  },
  "language_info": {
   "codemirror_mode": {
    "name": "ipython",
    "version": 3
   },
   "file_extension": ".py",
   "mimetype": "text/x-python",
   "name": "python",
   "nbconvert_exporter": "python",
   "pygments_lexer": "ipython3",
   "version": "3.7.2"
  }
 },
 "nbformat": 4,
 "nbformat_minor": 2
}
