{
 "cells": [
  {
   "cell_type": "code",
   "execution_count": 1,
   "metadata": {},
   "outputs": [],
   "source": [
    "%reload_ext autoreload\n",
    "%autoreload 2\n",
    "%matplotlib inline"
   ]
  },
  {
   "cell_type": "code",
   "execution_count": 2,
   "metadata": {},
   "outputs": [
    {
     "name": "stderr",
     "output_type": "stream",
     "text": [
      "/home/anukoolpurohit/anaconda3/envs/Torch10cuda/lib/python3.7/site-packages/tqdm/autonotebook/__init__.py:14: TqdmExperimentalWarning: Using `tqdm.autonotebook.tqdm` in notebook mode. Use `tqdm.tqdm` instead to force console mode (e.g. in jupyter console)\n",
      "  \" (e.g. in jupyter console)\", TqdmExperimentalWarning)\n"
     ]
    }
   ],
   "source": [
    "from sentimentanalyser.utils.data import (\n",
    "    Path, pad_collate, grandparent_splitter, random_splitter)\n",
    "from sentimentanalyser.utils.data import parent_labeler\n",
    "from sentimentanalyser.data.text import TextList, SplitData\n",
    "from sentimentanalyser.utils.files import pickle_dump, pickle_load"
   ]
  },
  {
   "cell_type": "code",
   "execution_count": 3,
   "metadata": {},
   "outputs": [],
   "source": [
    "from sentimentanalyser.preprocessing.processor import TokenizerProcessor\n",
    "from sentimentanalyser.preprocessing.processor import NuemericalizeProcessor\n",
    "from sentimentanalyser.preprocessing.processor import CategoryProcessor\n",
    "from sentimentanalyser.utils.data import read_wiki"
   ]
  },
  {
   "cell_type": "code",
   "execution_count": 4,
   "metadata": {},
   "outputs": [],
   "source": [
    "from sentimentanalyser.utils.callbacks import sched_cos, combine_scheds\n",
    "from sentimentanalyser.callbacks.training import (\n",
    "    LRFind, CudaCallback, GradientClipping, RNNCustomTrainer)\n",
    "from sentimentanalyser.callbacks.progress import ProgressCallback\n",
    "from sentimentanalyser.callbacks.scheduler import ParamSchedulerCustom\n",
    "from sentimentanalyser.callbacks.stats import AvgStatsCallback\n",
    "from sentimentanalyser.callbacks.recorder import RecorderCustom\n",
    "from sentimentanalyser.training.trainer import Trainer"
   ]
  },
  {
   "cell_type": "code",
   "execution_count": 5,
   "metadata": {},
   "outputs": [],
   "source": [
    "from sentimentanalyser.optimizers import adam_opt\n",
    "from sentimentanalyser.utils.metrics import accuracy\n",
    "from sentimentanalyser.utils.callbacks import combine_scheds, sched_cos, cos_1cycle_anneal\n",
    "from sentimentanalyser.utils.callbacks import create_phases"
   ]
  },
  {
   "cell_type": "code",
   "execution_count": 6,
   "metadata": {},
   "outputs": [],
   "source": [
    "from sentimentanalyser.preprocessing.tokens import TOKENS"
   ]
  },
  {
   "cell_type": "code",
   "execution_count": 7,
   "metadata": {},
   "outputs": [],
   "source": [
    "import torch\n",
    "import numpy as np\n",
    "import torch.nn.functional as F\n",
    "from torch import nn\n",
    "from functools import partial"
   ]
  },
  {
   "cell_type": "code",
   "execution_count": 8,
   "metadata": {},
   "outputs": [],
   "source": [
    "path_imdb = Path(\"/home/anukoolpurohit/Documents/AnukoolPurohit/Datasets/imdb\")\n",
    "path_wiki = Path(\"/home/anukoolpurohit/Documents/AnukoolPurohit/Datasets/wikitext-103\")\n",
    "path_cache = Path('/home/anukoolpurohit/Documents/AnukoolPurohit/Models/WordEmbeddings')"
   ]
  },
  {
   "cell_type": "code",
   "execution_count": 9,
   "metadata": {},
   "outputs": [],
   "source": [
    "path_model = Path('/home/anukoolpurohit/Documents/AnukoolPurohit/Models')"
   ]
  },
  {
   "cell_type": "code",
   "execution_count": 10,
   "metadata": {},
   "outputs": [],
   "source": [
    "# \"\"\"Uncomment to download the pretrained awd_lstm model from fastai\"\"\"\n",
    "# path = path_model\n",
    "# !wget http://files.fast.ai/models/wt103_tiny.tgz -P {path} --no-check-certificate\n",
    "# !tar xf {path}/wt103_tiny.tgz -C {path}"
   ]
  },
  {
   "cell_type": "code",
   "execution_count": 11,
   "metadata": {},
   "outputs": [],
   "source": [
    "proc_tok = TokenizerProcessor()\n",
    "proc_num = NuemericalizeProcessor()"
   ]
  },
  {
   "cell_type": "code",
   "execution_count": 12,
   "metadata": {},
   "outputs": [],
   "source": [
    "# tl_imdb_lm = TextList.from_files(path=path_imdb, folders=['train','test', 'unsup'])\n",
    "# sd_imdb_lm = tl_imdb_lm.split_by_func(partial(random_splitter, p=[0.9, 0.1]))\n",
    "# ll_imdb_lm = sd_imdb_lm.label_by_func(lambda x:0, proc_x=[proc_tok, proc_num])"
   ]
  },
  {
   "cell_type": "code",
   "execution_count": 13,
   "metadata": {},
   "outputs": [],
   "source": [
    "# pickle_dump(ll_imdb_lm, 'dumps/variable/ll_imdb_lm.pickle')"
   ]
  },
  {
   "cell_type": "code",
   "execution_count": 14,
   "metadata": {},
   "outputs": [],
   "source": [
    "ll_imdb_lm = pickle_load('dumps/variable/ll_imdb_lm.pickle')"
   ]
  },
  {
   "cell_type": "code",
   "execution_count": 15,
   "metadata": {},
   "outputs": [],
   "source": [
    "bs, bptt = 64, 70\n",
    "imdb_lm_data = ll_imdb_lm.lm_databunchify(bs, bptt)"
   ]
  },
  {
   "cell_type": "code",
   "execution_count": 16,
   "metadata": {},
   "outputs": [],
   "source": [
    "vocab = ll_imdb_lm.train.proc_x[1].vocab"
   ]
  },
  {
   "cell_type": "code",
   "execution_count": 17,
   "metadata": {},
   "outputs": [],
   "source": [
    "tok_pad = vocab.index(TOKENS.PAD)"
   ]
  },
  {
   "cell_type": "code",
   "execution_count": 18,
   "metadata": {},
   "outputs": [],
   "source": [
    "from sentimentanalyser.models.rnn import EncDecLanguageModel"
   ]
  },
  {
   "cell_type": "code",
   "execution_count": 19,
   "metadata": {},
   "outputs": [],
   "source": [
    "def cross_entropy_flat(input, target):\n",
    "    bs, sl = target.size()\n",
    "    return F.cross_entropy(input.view(bs * sl, -1), target.view(bs * sl))"
   ]
  },
  {
   "cell_type": "code",
   "execution_count": 20,
   "metadata": {},
   "outputs": [],
   "source": [
    "def accuracy_flat(input, target):\n",
    "    bs, sl = target.size()\n",
    "    return accuracy(input.view(bs * sl, -1), target.view(bs * sl))"
   ]
  },
  {
   "cell_type": "code",
   "execution_count": 21,
   "metadata": {},
   "outputs": [],
   "source": [
    "def get_basic(Model, vocab, **kwargs):\n",
    "    model = Model(len(vocab), **kwargs)\n",
    "    loss_func = cross_entropy_flat\n",
    "    opt = adam_opt()(model.parameters())\n",
    "    return model, loss_func, opt"
   ]
  },
  {
   "cell_type": "code",
   "execution_count": 22,
   "metadata": {},
   "outputs": [],
   "source": [
    "sched = combine_scheds([0.3, 0.7], [sched_cos(1e-4, 1e-3), sched_cos(1e-3, 3e-5)])"
   ]
  },
  {
   "cell_type": "code",
   "execution_count": null,
   "metadata": {},
   "outputs": [],
   "source": [
    "cbs = [partial(AvgStatsCallback, [accuracy_flat]),\n",
    "       partial(ParamSchedulerCustom,'lr', [sched]),\n",
    "       partial(GradientClipping, clip=0.1),\n",
    "       ProgressCallback,\n",
    "       CudaCallback,\n",
    "       partial(RNNCustomTrainer, α=2., β=1.),\n",
    "       RecorderCustom]"
   ]
  },
  {
   "cell_type": "code",
   "execution_count": null,
   "metadata": {},
   "outputs": [],
   "source": [
    "old_wgts = torch.load(path_model/'pretrained'/'pretrained.pth')\n",
    "old_vocab = pickle_load(path_model/'pretrained'/'vocab.pkl')"
   ]
  },
  {
   "cell_type": "code",
   "execution_count": null,
   "metadata": {},
   "outputs": [],
   "source": [
    "model,_,_ = get_basic(EncDecLanguageModel, vocab, dropout=0.5)"
   ]
  },
  {
   "cell_type": "code",
   "execution_count": null,
   "metadata": {},
   "outputs": [
    {
     "name": "stdout",
     "output_type": "stream",
     "text": [
      "encoder.embeddings.weight\n",
      "encoder.rnn.rnns.0.weight_hh_l0_raw\n",
      "encoder.rnn.rnns.0.module.weight_ih_l0\n",
      "encoder.rnn.rnns.0.module.weight_hh_l0\n",
      "encoder.rnn.rnns.0.module.bias_ih_l0\n",
      "encoder.rnn.rnns.0.module.bias_hh_l0\n",
      "encoder.rnn.rnns.1.weight_hh_l0_raw\n",
      "encoder.rnn.rnns.1.module.weight_ih_l0\n",
      "encoder.rnn.rnns.1.module.weight_hh_l0\n",
      "encoder.rnn.rnns.1.module.bias_ih_l0\n",
      "encoder.rnn.rnns.1.module.bias_hh_l0\n",
      "decoder.decoder.bias\n"
     ]
    }
   ],
   "source": [
    "for name, param in model.named_parameters():\n",
    "    print(name)"
   ]
  },
  {
   "cell_type": "code",
   "execution_count": null,
   "metadata": {},
   "outputs": [
    {
     "data": {
      "text/plain": [
       "14"
      ]
     },
     "execution_count": 27,
     "metadata": {},
     "output_type": "execute_result"
    }
   ],
   "source": [
    "len(old_wgts.keys())"
   ]
  },
  {
   "cell_type": "code",
   "execution_count": null,
   "metadata": {},
   "outputs": [
    {
     "data": {
      "text/plain": [
       "12"
      ]
     },
     "execution_count": 28,
     "metadata": {},
     "output_type": "execute_result"
    }
   ],
   "source": [
    "len(list(model.named_parameters()))"
   ]
  },
  {
   "cell_type": "code",
   "execution_count": null,
   "metadata": {},
   "outputs": [
    {
     "name": "stdout",
     "output_type": "stream",
     "text": [
      "0.emb.weight\n",
      "0.emb_dp.emb.weight\n",
      "0.rnns.0.weight_hh_l0_raw\n",
      "0.rnns.0.module.weight_ih_l0\n",
      "0.rnns.0.module.weight_hh_l0\n",
      "0.rnns.0.module.bias_ih_l0\n",
      "0.rnns.0.module.bias_hh_l0\n",
      "0.rnns.1.weight_hh_l0_raw\n",
      "0.rnns.1.module.weight_ih_l0\n",
      "0.rnns.1.module.weight_hh_l0\n",
      "0.rnns.1.module.bias_ih_l0\n",
      "0.rnns.1.module.bias_hh_l0\n",
      "1.decoder.weight\n",
      "1.decoder.bias\n"
     ]
    }
   ],
   "source": [
    "for key in old_wgts.keys():\n",
    "    print(key)"
   ]
  },
  {
   "cell_type": "code",
   "execution_count": null,
   "metadata": {},
   "outputs": [],
   "source": [
    "def match_embeds(old_wgts, old_vocab, new_vocab):\n",
    "    wgts = old_wgts['0.emb.weight']\n",
    "    bias = old_wgts['1.decoder.bias']\n",
    "    wgts_m,bias_m = wgts.mean(dim=0),bias.mean()\n",
    "    new_wgts = wgts.new_zeros(len(new_vocab), wgts.size(1))\n",
    "    new_bias = bias.new_zeros(len(new_vocab))\n",
    "    otoi = {v:k for k,v in enumerate(old_vocab)}\n",
    "    for i,w in enumerate(new_vocab): \n",
    "        if w in otoi:\n",
    "            idx = otoi[w]\n",
    "            new_wgts[i],new_bias[i] = wgts[idx],bias[idx]\n",
    "        else: new_wgts[i],new_bias[i] = wgts_m,bias_m\n",
    "    old_wgts['0.emb.weight']    = new_wgts\n",
    "    old_wgts['0.emb_dp.emb.weight'] = new_wgts\n",
    "    old_wgts['1.decoder.weight']    = new_wgts\n",
    "    old_wgts['1.decoder.bias']      = new_bias\n",
    "    return old_wgts"
   ]
  },
  {
   "cell_type": "code",
   "execution_count": null,
   "metadata": {},
   "outputs": [],
   "source": [
    "wgts = match_embeds(old_wgts, old_vocab, vocab)"
   ]
  },
  {
   "cell_type": "code",
   "execution_count": null,
   "metadata": {},
   "outputs": [
    {
     "data": {
      "text/plain": [
       "<bound method Module.state_dict of EncDecLanguageModel(\n",
       "  (encoder): AWDLSTMEncoder(\n",
       "    (embeddings): Embedding(60002, 300, padding_idx=1)\n",
       "    (embeddings_dropout): EmbeddingsWithDropout(\n",
       "      (embeddings): Embedding(60002, 300, padding_idx=1)\n",
       "    )\n",
       "    (rnn): AWDLSTM(\n",
       "      (rnns): ModuleList(\n",
       "        (0): WeightDropout(\n",
       "          (module): LSTM(300, 300, batch_first=True)\n",
       "        )\n",
       "        (1): WeightDropout(\n",
       "          (module): LSTM(300, 300, batch_first=True)\n",
       "        )\n",
       "      )\n",
       "      (hidden_dropouts): ModuleList(\n",
       "        (0): RNNDropout()\n",
       "        (1): RNNDropout()\n",
       "      )\n",
       "    )\n",
       "    (input_dropout): RNNDropout()\n",
       "  )\n",
       "  (decoder): LinearDecoder(\n",
       "    (output_dp): RNNDropout()\n",
       "    (decoder): Linear(in_features=300, out_features=60002, bias=True)\n",
       "  )\n",
       ")>"
      ]
     },
     "execution_count": 32,
     "metadata": {},
     "output_type": "execute_result"
    }
   ],
   "source": [
    "model.state_dict"
   ]
  },
  {
   "cell_type": "code",
   "execution_count": null,
   "metadata": {},
   "outputs": [],
   "source": [
    "trainer = Trainer(imdb_lm_data, *get_basic(EncDecLanguageModel, vocab, dropout=0.5), cb_funcs=cbs)"
   ]
  },
  {
   "cell_type": "code",
   "execution_count": null,
   "metadata": {},
   "outputs": [
    {
     "data": {
      "text/html": [
       "\n",
       "    <div>\n",
       "        <style>\n",
       "            /* Turns off some styling */\n",
       "            progress {\n",
       "                /* gets rid of default border in Firefox and Opera. */\n",
       "                border: none;\n",
       "                /* Needs to be in here for Safari polyfill so background images work as expected. */\n",
       "                background-size: auto;\n",
       "            }\n",
       "            .progress-bar-interrupted, .progress-bar-interrupted::-webkit-progress-bar {\n",
       "                background: #F44336;\n",
       "            }\n",
       "        </style>\n",
       "      <progress value='1' class='' max='3' style='width:300px; height:20px; vertical-align: middle;'></progress>\n",
       "      33.33% [1/3 00:38<01:17]\n",
       "    </div>\n",
       "    \n",
       "<table border=\"1\" class=\"dataframe\">\n",
       "  <thead>\n",
       "    <tr style=\"text-align: left;\">\n",
       "      <th>epoch</th>\n",
       "      <th>train_loss</th>\n",
       "      <th>train_accuracy_flat</th>\n",
       "      <th>valid_loss</th>\n",
       "      <th>valid_accuracy_flat</th>\n",
       "      <th>time</th>\n",
       "    </tr>\n",
       "  </thead>\n",
       "  <tbody>\n",
       "    <tr>\n",
       "      <td>0</td>\n",
       "      <td>5.766635</td>\n",
       "      <td>0.158900</td>\n",
       "      <td>4.784607</td>\n",
       "      <td>0.235820</td>\n",
       "      <td>15:35</td>\n",
       "    </tr>\n",
       "  </tbody>\n",
       "</table><p>\n",
       "\n",
       "    <div>\n",
       "        <style>\n",
       "            /* Turns off some styling */\n",
       "            progress {\n",
       "                /* gets rid of default border in Firefox and Opera. */\n",
       "                border: none;\n",
       "                /* Needs to be in here for Safari polyfill so background images work as expected. */\n",
       "                background-size: auto;\n",
       "            }\n",
       "            .progress-bar-interrupted, .progress-bar-interrupted::-webkit-progress-bar {\n",
       "                background: #F44336;\n",
       "            }\n",
       "        </style>\n",
       "      <progress value='5502' class='' max='6043' style='width:300px; height:20px; vertical-align: middle;'></progress>\n",
       "      91.05% [5502/6043 13:33<01:19]\n",
       "    </div>\n",
       "    "
      ],
      "text/plain": [
       "<IPython.core.display.HTML object>"
      ]
     },
     "metadata": {},
     "output_type": "display_data"
    }
   ],
   "source": [
    "trainer.fit()"
   ]
  },
  {
   "cell_type": "code",
   "execution_count": null,
   "metadata": {},
   "outputs": [],
   "source": []
  }
 ],
 "metadata": {
  "kernelspec": {
   "display_name": "Python 3",
   "language": "python",
   "name": "python3"
  },
  "language_info": {
   "codemirror_mode": {
    "name": "ipython",
    "version": 3
   },
   "file_extension": ".py",
   "mimetype": "text/x-python",
   "name": "python",
   "nbconvert_exporter": "python",
   "pygments_lexer": "ipython3",
   "version": "3.7.2"
  },
  "toc": {
   "base_numbering": 1,
   "nav_menu": {},
   "number_sections": true,
   "sideBar": true,
   "skip_h1_title": false,
   "title_cell": "Table of Contents",
   "title_sidebar": "Contents",
   "toc_cell": false,
   "toc_position": {},
   "toc_section_display": true,
   "toc_window_display": false
  }
 },
 "nbformat": 4,
 "nbformat_minor": 4
}
