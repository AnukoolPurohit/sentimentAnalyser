{
 "cells": [
  {
   "cell_type": "code",
   "execution_count": 1,
   "metadata": {},
   "outputs": [],
   "source": [
    "%reload_ext autoreload\n",
    "%autoreload 2\n",
    "%matplotlib inline"
   ]
  },
  {
   "cell_type": "code",
   "execution_count": 2,
   "metadata": {},
   "outputs": [],
   "source": [
    "from sentimentanalyser.utils.data  import Path, pad_collate, grandparent_splitter\n",
    "from sentimentanalyser.utils.data  import parent_labeler, listify\n",
    "from sentimentanalyser.data.text   import TextList, ItemList, SplitData\n",
    "from sentimentanalyser.utils.files import pickle_dump, pickle_load\n",
    "\n",
    "from sentimentanalyser.preprocessing.processor import TokenizerProcessor, NuemericalizeProcessor\n",
    "from sentimentanalyser.preprocessing.processor import CategoryProcessor"
   ]
  },
  {
   "cell_type": "code",
   "execution_count": 3,
   "metadata": {},
   "outputs": [],
   "source": [
    "from functools import partial"
   ]
  },
  {
   "cell_type": "code",
   "execution_count": 4,
   "metadata": {},
   "outputs": [],
   "source": [
    "path_imdb = Path(\"/home/anukoolpurohit/Documents/AnukoolPurohit/Datasets/imdb\")"
   ]
  },
  {
   "cell_type": "code",
   "execution_count": 5,
   "metadata": {},
   "outputs": [],
   "source": [
    "proc_tok = TokenizerProcessor()\n",
    "proc_num = NuemericalizeProcessor()\n",
    "proc_cat = CategoryProcessor()"
   ]
  },
  {
   "cell_type": "code",
   "execution_count": 6,
   "metadata": {},
   "outputs": [
    {
     "data": {
      "application/vnd.jupyter.widget-view+json": {
       "model_id": "1d7cb589f93e42f08a3bfc017ccb86f7",
       "version_major": 2,
       "version_minor": 0
      },
      "text/plain": [
       "HBox(children=(IntProgress(value=0, max=13), HTML(value='')))"
      ]
     },
     "metadata": {},
     "output_type": "display_data"
    },
    {
     "name": "stdout",
     "output_type": "stream",
     "text": [
      "\n"
     ]
    },
    {
     "data": {
      "application/vnd.jupyter.widget-view+json": {
       "model_id": "8d92fa0b6e9247d5a558612cb5af8175",
       "version_major": 2,
       "version_minor": 0
      },
      "text/plain": [
       "HBox(children=(IntProgress(value=0, max=13), HTML(value='')))"
      ]
     },
     "metadata": {},
     "output_type": "display_data"
    },
    {
     "name": "stdout",
     "output_type": "stream",
     "text": [
      "\n"
     ]
    },
    {
     "data": {
      "application/vnd.jupyter.widget-view+json": {
       "model_id": "d9125ae58baa445abf56bccd3b2ed489",
       "version_major": 2,
       "version_minor": 0
      },
      "text/plain": [
       "HBox(children=(IntProgress(value=1, bar_style='info', max=1), HTML(value='')))"
      ]
     },
     "metadata": {},
     "output_type": "display_data"
    },
    {
     "name": "stdout",
     "output_type": "stream",
     "text": [
      "\n"
     ]
    }
   ],
   "source": [
    "tl_imdb = TextList.from_files(path=path_imdb, folders=['train','test'])\n",
    "sd_imdb = tl_imdb.split_by_func(partial(grandparent_splitter, valid_name='test'))\n",
    "ll_imdb = sd_imdb.label_by_func(parent_labeler, proc_x=[proc_tok, proc_num], proc_y=proc_cat)"
   ]
  },
  {
   "cell_type": "code",
   "execution_count": 7,
   "metadata": {},
   "outputs": [],
   "source": [
    "imdb_data = ll_imdb.clas_databunchify(64)"
   ]
  },
  {
   "cell_type": "code",
   "execution_count": 8,
   "metadata": {},
   "outputs": [],
   "source": [
    "x1,y1 = next(iter(imdb_data.train_dl))"
   ]
  },
  {
   "cell_type": "code",
   "execution_count": 9,
   "metadata": {},
   "outputs": [],
   "source": [
    "import torch\n",
    "import torchtext\n",
    "import torch.nn.functional as F\n",
    "from torch import nn\n",
    "from torchtext import vocab\n",
    "from sentimentanalyser.utils.preprocessing import default_spec_tok"
   ]
  },
  {
   "cell_type": "code",
   "execution_count": 10,
   "metadata": {},
   "outputs": [],
   "source": [
    "path_cache = Path('/home/anukoolpurohit/Documents/AnukoolPurohit/Models/WordEmbeddings')"
   ]
  },
  {
   "cell_type": "code",
   "execution_count": 11,
   "metadata": {},
   "outputs": [],
   "source": [
    "ft_eng = vocab.FastText(cache=path_cache)"
   ]
  },
  {
   "cell_type": "code",
   "execution_count": 43,
   "metadata": {},
   "outputs": [],
   "source": [
    "local_vocab = proc_num.vocab"
   ]
  },
  {
   "cell_type": "code",
   "execution_count": 1,
   "metadata": {},
   "outputs": [],
   "source": [
    "from sentimentanalyser.utils.callbacks import sched_cos, combine_scheds\n",
    "from sentimentanalyser.callbacks.training import LR_Find, CudaCallback, GradientClipping\n",
    "from sentimentanalyser.callbacks.training import LR_FindCustom\n",
    "from sentimentanalyser.callbacks.progress import ProgressCallback\n",
    "from sentimentanalyser.callbacks.scheduler import ParamScheduler\n",
    "from sentimentanalyser.callbacks.stats import AvgStatsCallback\n",
    "from sentimentanalyser.callbacks.recorder import Recorder\n",
    "from sentimentanalyser.training.trainer import Trainer"
   ]
  },
  {
   "cell_type": "code",
   "execution_count": 13,
   "metadata": {},
   "outputs": [],
   "source": [
    "from sentimentanalyser.utils.dev import get_info, print_dims\n",
    "from sentimentanalyser.utils.training import get_embedding_vectors\n",
    "from sentimentanalyser.utils.metrics import accuracy\n",
    "from tqdm.auto import tqdm"
   ]
  },
  {
   "cell_type": "markdown",
   "metadata": {},
   "source": [
    "## Models"
   ]
  },
  {
   "cell_type": "markdown",
   "metadata": {},
   "source": [
    "### AWD Model"
   ]
  },
  {
   "cell_type": "code",
   "execution_count": 132,
   "metadata": {},
   "outputs": [],
   "source": [
    "class WeightDropout(nn.Module):\n",
    "    def __init__(self, module, dropout=0.5):\n",
    "        super().__init__()\n",
    "        self.module, self.dropout = module, dropout\n",
    "        \n",
    "        self.layer_names = self.get_layer_names()\n",
    "        for layer_name in self.layer_names:\n",
    "            weight = getattr(self.module, layer_name)\n",
    "            self.register_parameter(layer_name+'_raw', nn.Parameter(weight.data))\n",
    "        return\n",
    "    \n",
    "    def _setweights(self):\n",
    "        for layer_name in self.layer_names:\n",
    "            raw_w = getattr(self, layer_name+'_raw')\n",
    "            self.module._parameters[layer_name] = F.dropout(raw_w, self.dropout,\n",
    "                                                            training=self.training)\n",
    "        return\n",
    "    \n",
    "    def get_layer_names(self):\n",
    "        names = [f\"weight_hh_l{i}\" for i in range(self.module.num_layers)]\n",
    "        if self.module.bidirectional:\n",
    "            names = names + [name+'_reverse' for name in names]\n",
    "        return names\n",
    "    \n",
    "    def forward(self, *args):\n",
    "        self._setweights()\n",
    "        self.module.flatten_parameters()\n",
    "        return self.module.forward(*args)"
   ]
  },
  {
   "cell_type": "code",
   "execution_count": 154,
   "metadata": {},
   "outputs": [],
   "source": [
    "class AWDModel(nn.Module):\n",
    "    def __init__(self, local_vocab, torchtext_vocab,\n",
    "                 hidden_sz=256, output_sz=2, dropout=0.5,\n",
    "                 pad_idx=1, num_layers=2, bidirectional=True):\n",
    "        super().__init__()\n",
    "        \n",
    "        self.pad_idx = pad_idx\n",
    "        \n",
    "        self.bidir = 2 if bidirectional else 1\n",
    "        \n",
    "        embd_vecs = get_embedding_vectors(local_vocab, torchtext_vocab)\n",
    "        \n",
    "        self.embeddings = nn.Embedding.from_pretrained(embd_vecs,\n",
    "                                                       freeze=False,\n",
    "                                                       padding_idx=pad_idx)\n",
    "        \n",
    "        self.dropout = nn.Dropout(dropout)\n",
    "        \n",
    "        self. rnn    = WeightDropout(nn.LSTM(embd_vecs.shape[1],\n",
    "                                             hidden_sz,\n",
    "                                             batch_first=True,\n",
    "                                             dropout=dropout,\n",
    "                                             num_layers=num_layers,\n",
    "                                             bidirectional=bidirectional))\n",
    "        \n",
    "        self.linear  = nn.Linear((2+num_layers)*self.bidir*hidden_sz, output_sz)\n",
    "        return\n",
    "    \n",
    "    def forward(self, xb):\n",
    "        seq_lens, mask = get_info(xb, self.pad_idx)\n",
    "        \n",
    "        embedded = self.dropout(self.embeddings(xb))\n",
    "        \n",
    "        packed = nn.utils.rnn.pack_padded_sequence(embedded, seq_lens,\n",
    "                                                   batch_first=True)\n",
    "        \n",
    "        packed_out, (hidden_st, cell_st) = self.rnn(packed)\n",
    "        \n",
    "        lstm_out, lens = nn.utils.rnn.pad_packed_sequence(packed_out, batch_first=True)\n",
    "        \n",
    "        avg_pool = F.adaptive_avg_pool1d(lstm_out.transpose(1,2), 1).squeeze()\n",
    "        max_pool = F.adaptive_max_pool1d(lstm_out.transpose(1,2), 1).squeeze()\n",
    "        \n",
    "        hidden_st = hidden_st.view(hidden_st.shape[1], -1)\n",
    "        \n",
    "        combined = torch.cat([max_pool, avg_pool, hidden_st], dim=1)\n",
    "        return self.linear(combined)"
   ]
  },
  {
   "cell_type": "markdown",
   "metadata": {},
   "source": [
    "### Attention AWD Model"
   ]
  },
  {
   "cell_type": "code",
   "execution_count": 155,
   "metadata": {},
   "outputs": [],
   "source": [
    "class WordSentenceAttention(nn.Module):\n",
    "    def __init__(self, hidden_sz):\n",
    "        super().__init__()\n",
    "        \n",
    "        self.context_weight     = nn.Parameter(torch.Tensor(hidden_sz).uniform_(-0.1,0.1))\n",
    "        self.context_projection = nn.Linear(hidden_sz, hidden_sz)\n",
    "        return\n",
    "    \n",
    "    def forward(self, context):\n",
    "        context_proj = torch.tanh(self.context_projection(context))\n",
    "        αt = context_proj.matmul(self.context_weight)\n",
    "        attn_score = F.softmax(αt, dim=1).unsqueeze(2)\n",
    "        sentence = context.transpose(1,2).bmm(attn_score)\n",
    "        return sentence.squeeze(2)"
   ]
  },
  {
   "cell_type": "code",
   "execution_count": 160,
   "metadata": {},
   "outputs": [],
   "source": [
    "class AttnAWDModel(nn.Module):\n",
    "    def __init__(self,local_vocab, torch_text_vocab,\n",
    "                 hidden_sz=256, output_sz=2, dropout=0.5,\n",
    "                 pad_idx=1, num_layers=2, bidirectional=True):\n",
    "        super().__init__()\n",
    "        \n",
    "        self.num_layers = num_layers\n",
    "        self.bidirectional = bidirectional\n",
    "        \n",
    "        bidir = 2 if bidirectional else 1\n",
    "        embd_vecs = get_embedding_vectors(local_vocab, torch_text_vocab)\n",
    "        \n",
    "        self.embedding = nn.Embedding.from_pretrained(embd_vecs,\n",
    "                                                      freeze=False,\n",
    "                                                      padding_idx=pad_idx)\n",
    "        \n",
    "        self.dropout  = nn.Dropout(dropout)\n",
    "        \n",
    "        self.rnn      = WeightDropout(nn.LSTM(embd_vecs.shape[1],\n",
    "                                              hidden_sz,\n",
    "                                              batch_first=True,\n",
    "                                              dropout=dropout,\n",
    "                                              num_layers=num_layers,\n",
    "                                              bidirectional=bidirectional))\n",
    "        \n",
    "        self.WSattn   = WordSentenceAttention(bidir*hidden_sz)\n",
    "        self.linear   = nn.Linear(bidir*hidden_sz, output_sz)\n",
    "        return\n",
    "    \n",
    "    def forward(self, xb):\n",
    "        seq_lens, mask = get_info(xb, self.pad_idx)\n",
    "        \n",
    "        embedded = self.dropout(self.embedding(xb))\n",
    "        packed_i = nn.utils.rnn.pack_padded_sequence(embedded,seq_lens,\n",
    "                                                     batch_first=True)\n",
    "\n",
    "        packed_o, (hidden_st, cell_st) = self.rnn(packed_i)\n",
    "        outputs, _ = nn.utils.rnn.pad_packed_sequence(packed_o, batch_first=True)\n",
    "        \n",
    "        sentence = self.WSattn(outputs)\n",
    "        return self.linear(sentence)"
   ]
  },
  {
   "cell_type": "markdown",
   "metadata": {},
   "source": [
    "## Testing"
   ]
  },
  {
   "cell_type": "code",
   "execution_count": 161,
   "metadata": {},
   "outputs": [],
   "source": [
    "model = AttnAWDModel(local_vocab, ft_eng)"
   ]
  },
  {
   "cell_type": "code",
   "execution_count": 162,
   "metadata": {},
   "outputs": [],
   "source": [
    "y = model(x1)"
   ]
  },
  {
   "cell_type": "code",
   "execution_count": 163,
   "metadata": {},
   "outputs": [
    {
     "data": {
      "text/plain": [
       "torch.Size([64, 2])"
      ]
     },
     "execution_count": 163,
     "metadata": {},
     "output_type": "execute_result"
    }
   ],
   "source": [
    "y.shape"
   ]
  },
  {
   "cell_type": "markdown",
   "metadata": {},
   "source": [
    "## Training"
   ]
  },
  {
   "cell_type": "code",
   "execution_count": 145,
   "metadata": {},
   "outputs": [],
   "source": [
    "def get_params(model):\n",
    "    emb, wgts, biases = [],[],[]\n",
    "    for name, param in model.named_parameters():\n",
    "        if ('embedding' in name.split('.')):\n",
    "            emb.append(param)\n",
    "        elif ('weight' in name.split('.')):\n",
    "            wgts.append(param)\n",
    "        elif ('bias' in name.split('.')):\n",
    "            biases.append(param)\n",
    "    return emb, wgts, biases"
   ]
  },
  {
   "cell_type": "code",
   "execution_count": 146,
   "metadata": {},
   "outputs": [],
   "source": [
    "def pg_dicts(pgs):\n",
    "    return [{'params': p} for p in pgs]"
   ]
  },
  {
   "cell_type": "code",
   "execution_count": 147,
   "metadata": {},
   "outputs": [],
   "source": [
    "def get_basic(Model, local_vocab, torchtext_vocab, num_layers=1, disc_train=False):\n",
    "    model = Model(local_vocab, torchtext_vocab, num_layers=num_layers)\n",
    "    loss_func = nn.CrossEntropyLoss()\n",
    "    if disc_train:\n",
    "        pgs = pg_dicts(get_params(model))\n",
    "        opt = torch.optim.Adam(pgs, lr=1e-3)\n",
    "    else:\n",
    "        opt = torch.optim.AdamW(model.parameters(), lr=1e-3)\n",
    "    return model, loss_func, opt"
   ]
  },
  {
   "cell_type": "code",
   "execution_count": 148,
   "metadata": {},
   "outputs": [],
   "source": [
    "finder = Trainer(imdb_data,*get_basic(AWDModel,local_vocab,ft_eng,\n",
    "                                      num_layers=2),\n",
    "                 cb_funcs=[LR_Find,Recorder,CudaCallback])"
   ]
  },
  {
   "cell_type": "code",
   "execution_count": 149,
   "metadata": {},
   "outputs": [],
   "source": [
    "finder.fit()"
   ]
  },
  {
   "cell_type": "code",
   "execution_count": 150,
   "metadata": {},
   "outputs": [
    {
     "data": {
      "image/png": "[encoded data removed]",
      "text/plain": [
       "<Figure size 432x288 with 1 Axes>"
      ]
     },
     "metadata": {
      "needs_background": "light"
     },
     "output_type": "display_data"
    }
   ],
   "source": [
    "finder.recorder.plot(skip_last=2)"
   ]
  },
  {
   "cell_type": "code",
   "execution_count": 151,
   "metadata": {},
   "outputs": [],
   "source": [
    "sched = combine_scheds([0.3, 0.7], [sched_cos(1e-4, 1e-3), sched_cos(1e-3, 3e-5)])"
   ]
  },
  {
   "cell_type": "code",
   "execution_count": 168,
   "metadata": {},
   "outputs": [],
   "source": [
    "trainer_awd = Trainer(imdb_data, *get_basic(AWDModel, local_vocab, ft_eng,\n",
    "                                        num_layers=2),\n",
    "                  cb_funcs=[\n",
    "                      partial(AvgStatsCallback, [accuracy]),\n",
    "                      partial(ParamScheduler,'lr', [sched]),\n",
    "                      partial(GradientClipping, clip=0.1),\n",
    "                      ProgressCallback,\n",
    "                      CudaCallback,\n",
    "                      Recorder\n",
    "                  ])"
   ]
  },
  {
   "cell_type": "code",
   "execution_count": 169,
   "metadata": {},
   "outputs": [],
   "source": [
    "trainer_atawd = Trainer(imdb_data, *get_basic(AWDModel, local_vocab, ft_eng,\n",
    "                                        num_layers=2),\n",
    "                  cb_funcs=[\n",
    "                      partial(AvgStatsCallback, [accuracy]),\n",
    "                      partial(ParamScheduler,'lr', [sched]),\n",
    "                      partial(GradientClipping, clip=0.1),\n",
    "                      ProgressCallback,\n",
    "                      CudaCallback,\n",
    "                      Recorder\n",
    "                  ])"
   ]
  },
  {
   "cell_type": "code",
   "execution_count": 170,
   "metadata": {},
   "outputs": [
    {
     "data": {
      "text/html": [
       "<table border=\"1\" class=\"dataframe\">\n",
       "  <thead>\n",
       "    <tr style=\"text-align: left;\">\n",
       "      <th>epoch</th>\n",
       "      <th>train_loss</th>\n",
       "      <th>train_accuracy</th>\n",
       "      <th>valid_loss</th>\n",
       "      <th>valid_accuracy</th>\n",
       "      <th>time</th>\n",
       "    </tr>\n",
       "  </thead>\n",
       "  <tbody>\n",
       "    <tr>\n",
       "      <td>0</td>\n",
       "      <td>0.471524</td>\n",
       "      <td>0.746120</td>\n",
       "      <td>0.327442</td>\n",
       "      <td>0.857320</td>\n",
       "      <td>01:33</td>\n",
       "    </tr>\n",
       "    <tr>\n",
       "      <td>1</td>\n",
       "      <td>0.247158</td>\n",
       "      <td>0.901160</td>\n",
       "      <td>0.226350</td>\n",
       "      <td>0.910040</td>\n",
       "      <td>01:34</td>\n",
       "    </tr>\n",
       "    <tr>\n",
       "      <td>2</td>\n",
       "      <td>0.146061</td>\n",
       "      <td>0.945920</td>\n",
       "      <td>0.233303</td>\n",
       "      <td>0.913200</td>\n",
       "      <td>01:33</td>\n",
       "    </tr>\n",
       "  </tbody>\n",
       "</table>"
      ],
      "text/plain": [
       "<IPython.core.display.HTML object>"
      ]
     },
     "metadata": {},
     "output_type": "display_data"
    }
   ],
   "source": [
    "trainer_awd.fit()"
   ]
  },
  {
   "cell_type": "code",
   "execution_count": 171,
   "metadata": {},
   "outputs": [
    {
     "data": {
      "text/html": [
       "<table border=\"1\" class=\"dataframe\">\n",
       "  <thead>\n",
       "    <tr style=\"text-align: left;\">\n",
       "      <th>epoch</th>\n",
       "      <th>train_loss</th>\n",
       "      <th>train_accuracy</th>\n",
       "      <th>valid_loss</th>\n",
       "      <th>valid_accuracy</th>\n",
       "      <th>time</th>\n",
       "    </tr>\n",
       "  </thead>\n",
       "  <tbody>\n",
       "    <tr>\n",
       "      <td>0</td>\n",
       "      <td>0.479039</td>\n",
       "      <td>0.751760</td>\n",
       "      <td>0.269981</td>\n",
       "      <td>0.889760</td>\n",
       "      <td>01:33</td>\n",
       "    </tr>\n",
       "    <tr>\n",
       "      <td>1</td>\n",
       "      <td>0.245348</td>\n",
       "      <td>0.901520</td>\n",
       "      <td>0.251619</td>\n",
       "      <td>0.900720</td>\n",
       "      <td>01:33</td>\n",
       "    </tr>\n",
       "    <tr>\n",
       "      <td>2</td>\n",
       "      <td>0.145072</td>\n",
       "      <td>0.948440</td>\n",
       "      <td>0.235392</td>\n",
       "      <td>0.913640</td>\n",
       "      <td>01:33</td>\n",
       "    </tr>\n",
       "  </tbody>\n",
       "</table>"
      ],
      "text/plain": [
       "<IPython.core.display.HTML object>"
      ]
     },
     "metadata": {},
     "output_type": "display_data"
    }
   ],
   "source": [
    "trainer_atawd.fit()"
   ]
  },
  {
   "cell_type": "code",
   "execution_count": null,
   "metadata": {},
   "outputs": [],
   "source": [
    "hoo"
   ]
  }
 ],
 "metadata": {
  "kernelspec": {
   "display_name": "Python 3",
   "language": "python",
   "name": "python3"
  },
  "language_info": {
   "codemirror_mode": {
    "name": "ipython",
    "version": 3
   },
   "file_extension": ".py",
   "mimetype": "text/x-python",
   "name": "python",
   "nbconvert_exporter": "python",
   "pygments_lexer": "ipython3",
   "version": "3.7.2"
  }
 },
 "nbformat": 4,
 "nbformat_minor": 2
}
