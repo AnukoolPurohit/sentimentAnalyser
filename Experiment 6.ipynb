{
 "cells": [
  {
   "cell_type": "code",
   "execution_count": 1,
   "metadata": {},
   "outputs": [],
   "source": [
    "%reload_ext autoreload\n",
    "%autoreload 2\n",
    "%matplotlib inline"
   ]
  },
  {
   "cell_type": "code",
   "execution_count": 2,
   "metadata": {},
   "outputs": [],
   "source": [
    "from sentimentanalyser.utils.data  import Path, pad_collate, grandparent_splitter\n",
    "from sentimentanalyser.utils.data  import parent_labeler, listify\n",
    "from sentimentanalyser.data.text   import TextList, ItemList, SplitData\n",
    "from sentimentanalyser.utils.files import pickle_dump, pickle_load"
   ]
  },
  {
   "cell_type": "code",
   "execution_count": 3,
   "metadata": {},
   "outputs": [],
   "source": [
    "from sentimentanalyser.preprocessing.processor import TokenizerProcessor, NuemericalizeProcessor"
   ]
  },
  {
   "cell_type": "code",
   "execution_count": 4,
   "metadata": {},
   "outputs": [],
   "source": [
    "from sentimentanalyser.utils.data import read_wiki"
   ]
  },
  {
   "cell_type": "code",
   "execution_count": 5,
   "metadata": {},
   "outputs": [],
   "source": [
    "from functools import partial"
   ]
  },
  {
   "cell_type": "code",
   "execution_count": 6,
   "metadata": {},
   "outputs": [],
   "source": [
    "path_imdb = Path(\"/home/anukoolpurohit/Documents/AnukoolPurohit/Datasets/imdb\")"
   ]
  },
  {
   "cell_type": "code",
   "execution_count": 7,
   "metadata": {},
   "outputs": [],
   "source": [
    "path_wiki = Path(\"/home/anukoolpurohit/Documents/AnukoolPurohit/Datasets/wikitext-103\")"
   ]
  },
  {
   "cell_type": "code",
   "execution_count": 8,
   "metadata": {},
   "outputs": [],
   "source": [
    "proc_tok = TokenizerProcessor()\n",
    "proc_num = NuemericalizeProcessor()"
   ]
  },
  {
   "cell_type": "code",
   "execution_count": 8,
   "metadata": {},
   "outputs": [],
   "source": [
    "train = TextList(read_wiki(path_wiki/'train.txt'), path_wiki)\n",
    "valid = TextList(read_wiki(path_wiki/'valid.txt'), path_wiki)"
   ]
  },
  {
   "cell_type": "code",
   "execution_count": 9,
   "metadata": {},
   "outputs": [
    {
     "data": {
      "text/plain": [
       "(28476, 60)"
      ]
     },
     "execution_count": 9,
     "metadata": {},
     "output_type": "execute_result"
    }
   ],
   "source": [
    "len(train), len(valid)"
   ]
  },
  {
   "cell_type": "code",
   "execution_count": 10,
   "metadata": {},
   "outputs": [],
   "source": [
    "sd_wiki = SplitData(train, valid)"
   ]
  },
  {
   "cell_type": "code",
   "execution_count": 12,
   "metadata": {},
   "outputs": [
    {
     "data": {
      "application/vnd.jupyter.widget-view+json": {
       "model_id": "31712beb913d4c57a94c9b0e24de7fd0",
       "version_major": 2,
       "version_minor": 0
      },
      "text/plain": [
       "HBox(children=(IntProgress(value=0, max=15), HTML(value='')))"
      ]
     },
     "metadata": {},
     "output_type": "display_data"
    },
    {
     "name": "stdout",
     "output_type": "stream",
     "text": [
      "\n"
     ]
    },
    {
     "data": {
      "application/vnd.jupyter.widget-view+json": {
       "model_id": "d302ffb3f4a04a1b8f606da21a34e63e",
       "version_major": 2,
       "version_minor": 0
      },
      "text/plain": [
       "HBox(children=(IntProgress(value=0, max=1), HTML(value='')))"
      ]
     },
     "metadata": {},
     "output_type": "display_data"
    },
    {
     "name": "stdout",
     "output_type": "stream",
     "text": [
      "\n"
     ]
    }
   ],
   "source": [
    "ll_wiki = sd_wiki.label_by_func(lambda x:0, proc_x=[proc_tok, proc_num])"
   ]
  },
  {
   "cell_type": "code",
   "execution_count": 13,
   "metadata": {},
   "outputs": [],
   "source": [
    "pickle_dump(ll_wiki, 'dumps/variable/ll_wiki.pickle')"
   ]
  },
  {
   "cell_type": "code",
   "execution_count": 9,
   "metadata": {},
   "outputs": [],
   "source": [
    "ll_wiki = pickle_load('dumps/variable/ll_wiki.pickle')"
   ]
  },
  {
   "cell_type": "code",
   "execution_count": 10,
   "metadata": {},
   "outputs": [],
   "source": [
    "bs, bptt = 32, 70\n",
    "wiki_data = ll_wiki.lm_databunchify(bs, bptt)"
   ]
  },
  {
   "cell_type": "code",
   "execution_count": 11,
   "metadata": {},
   "outputs": [
    {
     "data": {
      "text/plain": [
       "60001"
      ]
     },
     "execution_count": 11,
     "metadata": {},
     "output_type": "execute_result"
    }
   ],
   "source": [
    "vocab = ll_wiki.train.proc_x[-1].vocab\n",
    "len(vocab)"
   ]
  },
  {
   "cell_type": "code",
   "execution_count": 23,
   "metadata": {},
   "outputs": [],
   "source": [
    "x1,y1 = next(iter(wiki_data.train_dl))"
   ]
  },
  {
   "cell_type": "code",
   "execution_count": 12,
   "metadata": {},
   "outputs": [],
   "source": [
    "import torch\n",
    "import torch.nn.functional as F\n",
    "from torch import nn"
   ]
  },
  {
   "cell_type": "code",
   "execution_count": 13,
   "metadata": {},
   "outputs": [],
   "source": [
    "from sentimentanalyser.utils.callbacks import sched_cos, combine_scheds\n",
    "from sentimentanalyser.callbacks.training import LR_Find, CudaCallback, GradientClipping\n",
    "from sentimentanalyser.callbacks.progress import ProgressCallback\n",
    "from sentimentanalyser.callbacks.scheduler import ParamScheduler\n",
    "from sentimentanalyser.callbacks.stats import AvgStatsCallback\n",
    "from sentimentanalyser.callbacks.recorder import Recorder\n",
    "from sentimentanalyser.training.trainer import Trainer"
   ]
  },
  {
   "cell_type": "code",
   "execution_count": 14,
   "metadata": {},
   "outputs": [],
   "source": [
    "from sentimentanalyser.utils.dev import get_info, print_dims\n",
    "from sentimentanalyser.utils.training import get_embedding_vectors\n",
    "from sentimentanalyser.utils.metrics import accuracy\n",
    "from tqdm.auto import tqdm"
   ]
  },
  {
   "cell_type": "markdown",
   "metadata": {},
   "source": [
    "# Model"
   ]
  },
  {
   "cell_type": "markdown",
   "metadata": {},
   "source": [
    "## Weight Dropout"
   ]
  },
  {
   "cell_type": "code",
   "execution_count": 15,
   "metadata": {},
   "outputs": [],
   "source": [
    "class WeightDropout(nn.Module):\n",
    "    def __init__(self, module, dropout=0.5):\n",
    "        super().__init__()\n",
    "        self.module, self.dropout = module, dropout\n",
    "        \n",
    "        self.layer_names = self.get_layer_names()\n",
    "        for layer_name in self.layer_names:\n",
    "            weight = getattr(self.module, layer_name)\n",
    "            self.register_parameter(layer_name+'_raw', nn.Parameter(weight.data))\n",
    "        return\n",
    "    \n",
    "    def _setweights(self):\n",
    "        for layer_name in self.layer_names:\n",
    "            raw_w = getattr(self, layer_name+'_raw')\n",
    "            self.module._parameters[layer_name] = F.dropout(raw_w, self.dropout,\n",
    "                                                            training=self.training)\n",
    "        return\n",
    "    \n",
    "    def get_layer_names(self):\n",
    "        names = [f\"weight_hh_l{i}\" for i in range(self.module.num_layers)]\n",
    "        if self.module.bidirectional:\n",
    "            names = names + [name+'_reverse' for name in names]\n",
    "        return names\n",
    "    \n",
    "    def forward(self, *args):\n",
    "        self._setweights()\n",
    "        self.module.flatten_parameters()\n",
    "        return self.module.forward(*args)"
   ]
  },
  {
   "cell_type": "code",
   "execution_count": 27,
   "metadata": {},
   "outputs": [],
   "source": [
    "class AWDModel(nn.Module):\n",
    "    def __init__(self, vocab_size, emb_sz=300, hidden_sz=256, dropout=0.5,\n",
    "                 pad_idx=1, num_layers=2, bidirectional=True):\n",
    "        super().__init__()\n",
    "        \n",
    "        self.pad_idx = pad_idx\n",
    "        \n",
    "        self.bidir = 2 if bidirectional else 1\n",
    "        \n",
    "        self.embeddings = nn.Embedding(vocab_size, emb_sz,\n",
    "                                       padding_idx=pad_idx)\n",
    "        \n",
    "        self.dropout = nn.Dropout(dropout)\n",
    "        \n",
    "        self. rnn    = WeightDropout(nn.LSTM(emb_sz,\n",
    "                                             hidden_sz,\n",
    "                                             batch_first=True,\n",
    "                                             dropout=dropout,\n",
    "                                             num_layers=num_layers,\n",
    "                                             bidirectional=bidirectional))\n",
    "        return\n",
    "    \n",
    "    def forward(self, xb):\n",
    "        seq_lens, mask = get_info(xb)\n",
    "        \n",
    "        embedded = self.dropout(self.embeddings(xb))\n",
    "        \n",
    "        packed = nn.utils.rnn.pack_padded_sequence(embedded, seq_lens,\n",
    "                                                   batch_first=True)\n",
    "        \n",
    "        packed_out, (hidden_st, cell_st) = self.rnn(packed)\n",
    "        \n",
    "        lstm_out, lens = nn.utils.rnn.pad_packed_sequence(packed_out, batch_first=True)\n",
    "        return lstm_out, hidden_st"
   ]
  },
  {
   "cell_type": "code",
   "execution_count": 45,
   "metadata": {},
   "outputs": [],
   "source": [
    "class LinearDecoder(nn.Module):\n",
    "    def __init__(self, hidden_sz, output_sz, tie_encoder=None, bias=True):\n",
    "        super().__init__()\n",
    "        self.decoder = nn.Linear(hidden_sz, output_sz, bias=bias)\n",
    "        if bias: self.decoder.bias.data.zero_()\n",
    "        if tie_encoder: self.decoder.weight = tie_encoder.weight\n",
    "        else: nn.init.kaiming_uniform_(self.decoder.weight)\n",
    "    \n",
    "    def forward(self, input):\n",
    "        outputs, hidden_st = input\n",
    "        print_dims('outputs',outputs)"
   ]
  },
  {
   "cell_type": "code",
   "execution_count": 47,
   "metadata": {},
   "outputs": [],
   "source": [
    "class ClassifierModel(nn.Module):\n",
    "    def __init__(self, vocab_sz, emb_sz=300, hidden_sz=256, output_sz=1, dropout=0.5,\n",
    "                 pad_idx=1, num_layers=2, bidirectional=True):\n",
    "        super().__init__()\n",
    "        self.encoder = AWDModel(vocab_sz, emb_sz, hidden_sz, dropout, pad_idx,\n",
    "                                num_layers, bidirectional)\n",
    "        bidir = 2 if self.bidirectional else 1\n",
    "        self.decoder = LinearDecoder(bidir*hidden_sz, output_sz,\n",
    "                                     tie_encoder=self.encoder.embeddings)\n",
    "        return\n",
    "    \n",
    "    def forward(self, xb):\n",
    "        output = self.encoder(xb)\n",
    "        output = self.decoder(output)\n",
    "        return output"
   ]
  },
  {
   "cell_type": "code",
   "execution_count": 43,
   "metadata": {},
   "outputs": [],
   "source": [
    "model = ClassifierModel(len(vocab))"
   ]
  },
  {
   "cell_type": "code",
   "execution_count": 44,
   "metadata": {},
   "outputs": [
    {
     "name": "stdout",
     "output_type": "stream",
     "text": [
      "size of outputs is torch.Size([32, 70, 512])\n"
     ]
    }
   ],
   "source": [
    "model(x1)"
   ]
  },
  {
   "cell_type": "code",
   "execution_count": 46,
   "metadata": {},
   "outputs": [
    {
     "data": {
      "text/plain": [
       "torch.Size([32, 70])"
      ]
     },
     "execution_count": 46,
     "metadata": {},
     "output_type": "execute_result"
    }
   ],
   "source": [
    "y1.shape"
   ]
  },
  {
   "cell_type": "code",
   "execution_count": null,
   "metadata": {},
   "outputs": [],
   "source": []
  }
 ],
 "metadata": {
  "kernelspec": {
   "display_name": "Python 3",
   "language": "python",
   "name": "python3"
  },
  "language_info": {
   "codemirror_mode": {
    "name": "ipython",
    "version": 3
   },
   "file_extension": ".py",
   "mimetype": "text/x-python",
   "name": "python",
   "nbconvert_exporter": "python",
   "pygments_lexer": "ipython3",
   "version": "3.7.2"
  }
 },
 "nbformat": 4,
 "nbformat_minor": 2
}
