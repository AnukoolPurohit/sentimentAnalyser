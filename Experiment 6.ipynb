{
 "cells": [
  {
   "cell_type": "code",
   "execution_count": null,
   "metadata": {},
   "outputs": [],
   "source": [
    "%reload_ext autoreload\n",
    "%autoreload 2\n",
    "%matplotlib inline"
   ]
  },
  {
   "cell_type": "code",
   "execution_count": null,
   "metadata": {},
   "outputs": [],
   "source": [
    "from sentimentanalyser.utils.data  import Path, pad_collate, grandparent_splitter\n",
    "from sentimentanalyser.utils.data  import parent_labeler, listify\n",
    "from sentimentanalyser.data.text   import TextList, ItemList, SplitData\n",
    "from sentimentanalyser.utils.files import pickle_dump, pickle_load\n",
    "\n",
    "from sentimentanalyser.preprocessing.processor import TokenizerProcessor, NuemericalizeProcessor\n",
    "from sentimentanalyser.preprocessing.processor import CategoryProcessor"
   ]
  },
  {
   "cell_type": "code",
   "execution_count": null,
   "metadata": {},
   "outputs": [],
   "source": [
    "from functools import partial"
   ]
  },
  {
   "cell_type": "code",
   "execution_count": null,
   "metadata": {},
   "outputs": [],
   "source": [
    "path_imdb = Path(\"/home/anukoolpurohit/Documents/AnukoolPurohit/Datasets/imdb\")"
   ]
  },
  {
   "cell_type": "code",
   "execution_count": null,
   "metadata": {},
   "outputs": [],
   "source": [
    "proc_tok = TokenizerProcessor()\n",
    "proc_num = NuemericalizeProcessor()\n",
    "proc_cat = CategoryProcessor()"
   ]
  },
  {
   "cell_type": "code",
   "execution_count": null,
   "metadata": {},
   "outputs": [],
   "source": [
    "tl_imdb = TextList.from_files(path=path_imdb, folders=['train','test'])\n",
    "sd_imdb = tl_imdb.split_by_func(partial(grandparent_splitter, valid_name='test'))\n",
    "ll_imdb = sd_imdb.label_by_func(parent_labeler, proc_x=[proc_tok, proc_num], proc_y=proc_cat)"
   ]
  },
  {
   "cell_type": "code",
   "execution_count": null,
   "metadata": {},
   "outputs": [],
   "source": [
    "imdb_data = ll_imdb.clas_databunchify(64)"
   ]
  },
  {
   "cell_type": "code",
   "execution_count": null,
   "metadata": {},
   "outputs": [],
   "source": [
    "x1,y1 = next(iter(imdb_data.train_dl))"
   ]
  },
  {
   "cell_type": "code",
   "execution_count": null,
   "metadata": {},
   "outputs": [],
   "source": [
    "from sentimentanalyser.utils.callbacks import sched_cos, combine_scheds\n",
    "from sentimentanalyser.callbacks.training import LR_Find, CudaCallback, GradientClipping\n",
    "from sentimentanalyser.callbacks.progress import ProgressCallback\n",
    "from sentimentanalyser.callbacks.scheduler import ParamScheduler\n",
    "from sentimentanalyser.callbacks.stats import AvgStatsCallback\n",
    "from sentimentanalyser.callbacks.recorder import Recorder\n",
    "from sentimentanalyser.training.trainer import Trainer"
   ]
  },
  {
   "cell_type": "code",
   "execution_count": null,
   "metadata": {},
   "outputs": [],
   "source": [
    "from sentimentanalyser.utils.dev import print_dims\n",
    "from sentimentanalyser.utils.training import get_embedding_vectors\n",
    "from sentimentanalyser.utils.metrics import accuracy\n",
    "from tqdm.auto import tqdm"
   ]
  },
  {
   "cell_type": "code",
   "execution_count": null,
   "metadata": {},
   "outputs": [],
   "source": [
    "from sentimentanalyser.models.rnn import AttnAWDModel\n",
    "from sentimentanalyser.models.regularization import WeightDropout\n",
    "from sentimentanalyser.data.core import ListContainer"
   ]
  },
  {
   "cell_type": "code",
   "execution_count": null,
   "metadata": {},
   "outputs": [],
   "source": [
    "import torch\n",
    "import torchtext\n",
    "from torch import nn\n",
    "from torchtext import vocab\n",
    "import matplotlib.pyplot as plt"
   ]
  },
  {
   "cell_type": "code",
   "execution_count": null,
   "metadata": {},
   "outputs": [],
   "source": [
    "path_cache = Path('/home/anukoolpurohit/Documents/AnukoolPurohit/Models/WordEmbeddings')"
   ]
  },
  {
   "cell_type": "code",
   "execution_count": null,
   "metadata": {},
   "outputs": [],
   "source": [
    "glove_eng = vocab.GloVe(cache=path_cache)"
   ]
  },
  {
   "cell_type": "code",
   "execution_count": null,
   "metadata": {},
   "outputs": [],
   "source": [
    "local_vocab = proc_num.vocab"
   ]
  },
  {
   "cell_type": "code",
   "execution_count": null,
   "metadata": {},
   "outputs": [],
   "source": [
    "def get_basic(Model, num_layers=2):\n",
    "    model = Model(proc_num.vocab, glove_eng,num_layers=num_layers)\n",
    "    loss_func = nn.CrossEntropyLoss()\n",
    "    opt = torch.optim.AdamW(model.parameters(), lr=1e-3)\n",
    "    return model, loss_func, opt"
   ]
  },
  {
   "cell_type": "code",
   "execution_count": null,
   "metadata": {},
   "outputs": [],
   "source": [
    "sched = combine_scheds([0.3, 0.7], [sched_cos(1e-4, 1e-3), sched_cos(1e-3, 3e-5)])"
   ]
  },
  {
   "cell_type": "code",
   "execution_count": null,
   "metadata": {},
   "outputs": [],
   "source": [
    "cbfs = [partial(AvgStatsCallback, [accuracy]),\n",
    "        partial(ParamScheduler,'lr', [sched]),\n",
    "        partial(GradientClipping, clip=0.1),\n",
    "        ProgressCallback,\n",
    "        CudaCallback,\n",
    "        Recorder\n",
    "       ]"
   ]
  },
  {
   "cell_type": "code",
   "execution_count": null,
   "metadata": {},
   "outputs": [],
   "source": [
    "model, loss_func, opt = get_basic(AttnAWDModel)"
   ]
  },
  {
   "cell_type": "code",
   "execution_count": null,
   "metadata": {},
   "outputs": [],
   "source": [
    "class Hook():\n",
    "    def __init__(self, m, f):\n",
    "        self.hook = m.register_forward_hook(partial(f, self))\n",
    "    \n",
    "    def remove(self):\n",
    "        self.hook.remove()\n",
    "    \n",
    "    def __del__(self):\n",
    "        self.remove()"
   ]
  },
  {
   "cell_type": "code",
   "execution_count": null,
   "metadata": {},
   "outputs": [],
   "source": [
    "def append_stats(hook, mod, inp, outp):\n",
    "    if not hasattr(hook, 'stats'):\n",
    "        hook.stats = ([],[])\n",
    "    if not hasattr(hook, 'layer_name'):\n",
    "        hook.layer_name = mod.__class__.__name__\n",
    "    means, stds = hook.stats\n",
    "    if mod.training:\n",
    "        if isinstance(mod, WeightDropout):\n",
    "            means.append(outp[0].data.mean().item())\n",
    "            stds.append(outp[0].data.std().item())\n",
    "        else:\n",
    "            means.append(outp.data.mean().item())\n",
    "            stds.append(outp.data.std().item())"
   ]
  },
  {
   "cell_type": "code",
   "execution_count": null,
   "metadata": {},
   "outputs": [],
   "source": [
    "class Hooks(ListContainer):\n",
    "    def __init__(self, ms, f):\n",
    "        super().__init__([Hook(m, f) for m in ms])\n",
    "    \n",
    "    def __enter__(self, *args):\n",
    "        return self\n",
    "    \n",
    "    def __exit__(self, *args):\n",
    "        self.remove()\n",
    "        return\n",
    "    \n",
    "    def __del__(self):\n",
    "        self.remove()\n",
    "        return\n",
    "    \n",
    "    def __delitem__(self, i):\n",
    "        self[i].remove()\n",
    "        super().__delitem__(i)\n",
    "        return\n",
    "    \n",
    "    def remove(self):\n",
    "        for h in self:\n",
    "            h.remove()"
   ]
  },
  {
   "cell_type": "code",
   "execution_count": null,
   "metadata": {},
   "outputs": [],
   "source": [
    "trainer = Trainer(imdb_data, model, loss_func, opt,\n",
    "                  cb_funcs=cbfs)"
   ]
  },
  {
   "cell_type": "code",
   "execution_count": null,
   "metadata": {},
   "outputs": [],
   "source": [
    "with Hooks(list(model.children())[:4], append_stats) as hooks:\n",
    "    trainer.fit(2)\n",
    "    names = []\n",
    "    fig, (ax0, ax1) = plt.subplots(1,2, figsize=(10,4))\n",
    "    for h in hooks:\n",
    "        names.append(h.layer_name)\n",
    "        ms, ss = h.stats\n",
    "        ax0.plot(ms[:10])\n",
    "        #ax0.title('mean first 10')\n",
    "        ax1.plot(ss[:10])\n",
    "        #ax1.title('std first 10')\n",
    "    plt.legend(names);\n",
    "    \n",
    "    fig, (ax0, ax1) = plt.subplots(1,2, figsize=(10,4))\n",
    "    for h in hooks:\n",
    "        ms, ss = h.stats\n",
    "        ax0.plot(ms)\n",
    "        #ax0.title('mean')\n",
    "        ax1.plot(ss)\n",
    "        #ax1.title('std')\n",
    "    plt.legend(names);"
   ]
  },
  {
   "cell_type": "code",
   "execution_count": null,
   "metadata": {},
   "outputs": [],
   "source": []
  }
 ],
 "metadata": {
  "kernelspec": {
   "display_name": "Python 3",
   "language": "python",
   "name": "python3"
  },
  "language_info": {
   "codemirror_mode": {
    "name": "ipython",
    "version": 3
   },
   "file_extension": ".py",
   "mimetype": "text/x-python",
   "name": "python",
   "nbconvert_exporter": "python",
   "pygments_lexer": "ipython3",
   "version": "3.7.2"
  }
 },
 "nbformat": 4,
 "nbformat_minor": 2
}
