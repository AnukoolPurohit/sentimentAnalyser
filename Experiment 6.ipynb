{
 "cells": [
  {
   "cell_type": "code",
   "execution_count": null,
   "metadata": {},
   "outputs": [],
   "source": [
    "%reload_ext autoreload\n",
    "%autoreload 2\n",
    "%matplotlib inline"
   ]
  },
  {
   "cell_type": "code",
   "execution_count": null,
   "metadata": {},
   "outputs": [],
   "source": [
    "from sentimentanalyser.utils.data  import Path, pad_collate, grandparent_splitter\n",
    "from sentimentanalyser.utils.data  import parent_labeler, listify\n",
    "from sentimentanalyser.data.text   import TextList, ItemList, SplitData\n",
    "from sentimentanalyser.utils.files import pickle_dump, pickle_load"
   ]
  },
  {
   "cell_type": "code",
   "execution_count": null,
   "metadata": {},
   "outputs": [],
   "source": [
    "from sentimentanalyser.preprocessing.processor import TokenizerProcessor, NuemericalizeProcessor"
   ]
  },
  {
   "cell_type": "code",
   "execution_count": null,
   "metadata": {},
   "outputs": [],
   "source": [
    "from sentimentanalyser.utils.data import read_wiki"
   ]
  },
  {
   "cell_type": "code",
   "execution_count": null,
   "metadata": {},
   "outputs": [],
   "source": [
    "from functools import partial"
   ]
  },
  {
   "cell_type": "code",
   "execution_count": null,
   "metadata": {},
   "outputs": [],
   "source": [
    "path_imdb = Path(\"/home/anukoolpurohit/Documents/AnukoolPurohit/Datasets/imdb\")"
   ]
  },
  {
   "cell_type": "code",
   "execution_count": null,
   "metadata": {},
   "outputs": [],
   "source": [
    "path_wiki = Path(\"/home/anukoolpurohit/Documents/AnukoolPurohit/Datasets/wikitext-103\")"
   ]
  },
  {
   "cell_type": "code",
   "execution_count": null,
   "metadata": {},
   "outputs": [],
   "source": [
    "proc_tok = TokenizerProcessor()\n",
    "proc_num = NuemericalizeProcessor()"
   ]
  },
  {
   "cell_type": "code",
   "execution_count": null,
   "metadata": {},
   "outputs": [],
   "source": [
    "train = TextList(read_wiki(path_wiki/'train.txt'), path_wiki)\n",
    "valid = TextList(read_wiki(path_wiki/'valid.txt'), path_wiki)"
   ]
  },
  {
   "cell_type": "code",
   "execution_count": null,
   "metadata": {},
   "outputs": [],
   "source": [
    "len(train), len(valid)"
   ]
  },
  {
   "cell_type": "code",
   "execution_count": null,
   "metadata": {},
   "outputs": [],
   "source": [
    "sd_wiki = SplitData(train, valid)"
   ]
  },
  {
   "cell_type": "code",
   "execution_count": null,
   "metadata": {},
   "outputs": [],
   "source": [
    "ll_wiki = sd_wiki.label_by_func(lambda x:0, proc_x=[proc_tok, proc_num])"
   ]
  },
  {
   "cell_type": "code",
   "execution_count": null,
   "metadata": {},
   "outputs": [],
   "source": [
    "pickle_dump(ll_wiki, 'dumps/variable/ll_wiki.pickle')"
   ]
  },
  {
   "cell_type": "code",
   "execution_count": null,
   "metadata": {},
   "outputs": [],
   "source": [
    "ll_wiki = pickle_load('dumps/variable/ll_wiki.pickle')"
   ]
  },
  {
   "cell_type": "code",
   "execution_count": null,
   "metadata": {},
   "outputs": [],
   "source": [
    "bs, bptt = 32, 70\n",
    "wiki_data = ll_wiki.lm_databunchify(bs, bptt)"
   ]
  },
  {
   "cell_type": "code",
   "execution_count": null,
   "metadata": {},
   "outputs": [],
   "source": [
    "vocab = ll_wiki.train.proc_x[-1].vocab\n",
    "len(vocab)"
   ]
  },
  {
   "cell_type": "code",
   "execution_count": null,
   "metadata": {},
   "outputs": [],
   "source": [
    "x1,y1 = next(iter(wiki_data.train_dl))"
   ]
  },
  {
   "cell_type": "code",
   "execution_count": null,
   "metadata": {},
   "outputs": [],
   "source": [
    "import torch\n",
    "import torch.nn.functional as F\n",
    "from torch import nn"
   ]
  },
  {
   "cell_type": "code",
   "execution_count": null,
   "metadata": {},
   "outputs": [],
   "source": [
    "from sentimentanalyser.utils.callbacks import sched_cos, combine_scheds\n",
    "from sentimentanalyser.callbacks.training import LR_Find, CudaCallback, GradientClipping\n",
    "from sentimentanalyser.callbacks.progress import ProgressCallback\n",
    "from sentimentanalyser.callbacks.scheduler import ParamScheduler\n",
    "from sentimentanalyser.callbacks.stats import AvgStatsCallback\n",
    "from sentimentanalyser.callbacks.recorder import Recorder\n",
    "from sentimentanalyser.training.trainer import Trainer"
   ]
  },
  {
   "cell_type": "code",
   "execution_count": null,
   "metadata": {},
   "outputs": [],
   "source": [
    "from sentimentanalyser.utils.dev import get_info, print_dims\n",
    "from sentimentanalyser.utils.training import get_embedding_vectors\n",
    "from sentimentanalyser.utils.metrics import accuracy\n",
    "from tqdm.auto import tqdm"
   ]
  },
  {
   "cell_type": "markdown",
   "metadata": {},
   "source": [
    "# Model"
   ]
  },
  {
   "cell_type": "markdown",
   "metadata": {},
   "source": [
    "## Weight Dropout"
   ]
  },
  {
   "cell_type": "code",
   "execution_count": null,
   "metadata": {},
   "outputs": [],
   "source": [
    "class WeightDropout(nn.Module):\n",
    "    def __init__(self, module, dropout=0.5):\n",
    "        super().__init__()\n",
    "        self.module, self.dropout = module, dropout\n",
    "        \n",
    "        self.layer_names = self.get_layer_names()\n",
    "        for layer_name in self.layer_names:\n",
    "            weight = getattr(self.module, layer_name)\n",
    "            self.register_parameter(layer_name+'_raw', nn.Parameter(weight.data))\n",
    "        return\n",
    "    \n",
    "    def _setweights(self):\n",
    "        for layer_name in self.layer_names:\n",
    "            raw_w = getattr(self, layer_name+'_raw')\n",
    "            self.module._parameters[layer_name] = F.dropout(raw_w, self.dropout,\n",
    "                                                            training=self.training)\n",
    "        return\n",
    "    \n",
    "    def get_layer_names(self):\n",
    "        names = [f\"weight_hh_l{i}\" for i in range(self.module.num_layers)]\n",
    "        if self.module.bidirectional:\n",
    "            names = names + [name+'_reverse' for name in names]\n",
    "        return names\n",
    "    \n",
    "    def forward(self, *args):\n",
    "        self._setweights()\n",
    "        self.module.flatten_parameters()\n",
    "        return self.module.forward(*args)"
   ]
  },
  {
   "cell_type": "code",
   "execution_count": null,
   "metadata": {},
   "outputs": [],
   "source": [
    "class AWDModel(nn.Module):\n",
    "    def __init__(self, vocab_size, emb_sz=300, hidden_sz=256, dropout=0.5,\n",
    "                 pad_idx=1, num_layers=2, bidirectional=True):\n",
    "        super().__init__()\n",
    "        \n",
    "        self.pad_idx = pad_idx\n",
    "        \n",
    "        self.bidir = 2 if bidirectional else 1\n",
    "        \n",
    "        self.embeddings = nn.Embedding(vocab_size, emb_sz,\n",
    "                                       padding_idx=pad_idx)\n",
    "        \n",
    "        self.dropout = nn.Dropout(dropout)\n",
    "        \n",
    "        self. rnn    = WeightDropout(nn.LSTM(emb_sz,\n",
    "                                             hidden_sz,\n",
    "                                             batch_first=True,\n",
    "                                             dropout=dropout,\n",
    "                                             num_layers=num_layers,\n",
    "                                             bidirectional=bidirectional))\n",
    "        return\n",
    "    \n",
    "    def forward(self, xb):\n",
    "        seq_lens, mask = get_info(xb)\n",
    "        \n",
    "        embedded = self.dropout(self.embeddings(xb))\n",
    "        \n",
    "        packed = nn.utils.rnn.pack_padded_sequence(embedded, seq_lens,\n",
    "                                                   batch_first=True)\n",
    "        \n",
    "        packed_out, (hidden_st, cell_st) = self.rnn(packed)\n",
    "        \n",
    "        lstm_out, lens = nn.utils.rnn.pad_packed_sequence(packed_out, batch_first=True)\n",
    "        return lstm_out, hidden_st"
   ]
  },
  {
   "cell_type": "code",
   "execution_count": null,
   "metadata": {},
   "outputs": [],
   "source": [
    "class LinearDecoder(nn.Module):\n",
    "    def __init__(self, hidden_sz, output_sz, tie_encoder=None, bias=True):\n",
    "        super().__init__()\n",
    "        self.decoder = nn.Linear(hidden_sz, output_sz, bias=bias)\n",
    "        if bias: self.decoder.bias.data.zero_()\n",
    "        if tie_encoder: self.decoder.weight = tie_encoder.weight\n",
    "        else: nn.init.kaiming_uniform_(self.decoder.weight)\n",
    "    \n",
    "    def forward(self, input):\n",
    "        outputs, hidden_st = input\n",
    "        return self.decoder(outputs).squeeze()"
   ]
  },
  {
   "cell_type": "code",
   "execution_count": null,
   "metadata": {},
   "outputs": [],
   "source": [
    "class ClassifierModel(nn.Module):\n",
    "    def __init__(self, vocab_sz, emb_sz=300, hidden_sz=256, output_sz=1, dropout=0.5,\n",
    "                 pad_idx=1, num_layers=2, bidirectional=True):\n",
    "        super().__init__()\n",
    "        self.encoder = AWDModel(vocab_sz, emb_sz, hidden_sz, dropout, pad_idx,\n",
    "                                num_layers, bidirectional)\n",
    "        bidir = 2 if bidirectional else 1\n",
    "        self.decoder = LinearDecoder(bidir*hidden_sz, vocab_sz)\n",
    "        return\n",
    "    \n",
    "    def forward(self, xb):\n",
    "        output = self.encoder(xb)\n",
    "        output = self.decoder(output)\n",
    "        return output"
   ]
  },
  {
   "cell_type": "code",
   "execution_count": null,
   "metadata": {},
   "outputs": [],
   "source": [
    "model = ClassifierModel(len(vocab))"
   ]
  },
  {
   "cell_type": "code",
   "execution_count": null,
   "metadata": {},
   "outputs": [],
   "source": [
    "y = model(x1)"
   ]
  },
  {
   "cell_type": "code",
   "execution_count": null,
   "metadata": {},
   "outputs": [],
   "source": [
    "y1.shape"
   ]
  },
  {
   "cell_type": "code",
   "execution_count": null,
   "metadata": {},
   "outputs": [],
   "source": [
    "y.shape"
   ]
  },
  {
   "cell_type": "markdown",
   "metadata": {},
   "source": [
    "# Training"
   ]
  },
  {
   "cell_type": "code",
   "execution_count": null,
   "metadata": {},
   "outputs": [],
   "source": [
    "def cross_entropy_flat(input, target):\n",
    "    bs, sl = target.size()\n",
    "    return F.cross_entropy(input.view(bs * sl, -1), target.view(bs * sl))"
   ]
  },
  {
   "cell_type": "code",
   "execution_count": null,
   "metadata": {},
   "outputs": [],
   "source": [
    "b = y.view(32*70, -1)"
   ]
  },
  {
   "cell_type": "code",
   "execution_count": null,
   "metadata": {},
   "outputs": [],
   "source": [
    "a = y1.view(32*70)"
   ]
  },
  {
   "cell_type": "code",
   "execution_count": null,
   "metadata": {},
   "outputs": [],
   "source": [
    "a.shape, b.shape"
   ]
  },
  {
   "cell_type": "code",
   "execution_count": null,
   "metadata": {},
   "outputs": [],
   "source": [
    "a[326]"
   ]
  },
  {
   "cell_type": "code",
   "execution_count": null,
   "metadata": {},
   "outputs": [],
   "source": [
    "y1.shape"
   ]
  },
  {
   "cell_type": "code",
   "execution_count": null,
   "metadata": {},
   "outputs": [],
   "source": [
    "cross_entropy_flat(y, y1)"
   ]
  },
  {
   "cell_type": "code",
   "execution_count": null,
   "metadata": {},
   "outputs": [],
   "source": [
    "def accuracy_flat(input, target):\n",
    "    bs, sl = target.size()\n",
    "    return accuracy(input.view(bs * sl, -1), target.view(bs * sl))"
   ]
  },
  {
   "cell_type": "code",
   "execution_count": null,
   "metadata": {},
   "outputs": [],
   "source": [
    "def get_params(model):\n",
    "    emb, wgts, biases = [],[],[]\n",
    "    for name, param in model.named_parameters():\n",
    "        if ('embedding' in name.split('.')):\n",
    "            emb.append(param)\n",
    "        elif ('weight' in name.split('.')):\n",
    "            wgts.append(param)\n",
    "        elif ('bias' in name.split('.')):\n",
    "            biases.append(param)\n",
    "    return emb, wgts, biases"
   ]
  },
  {
   "cell_type": "code",
   "execution_count": null,
   "metadata": {},
   "outputs": [],
   "source": [
    "def pg_dicts(pgs):\n",
    "    return [{'params': p} for p in pgs]"
   ]
  },
  {
   "cell_type": "code",
   "execution_count": null,
   "metadata": {},
   "outputs": [],
   "source": [
    "def get_basic(Model, vocab):\n",
    "    model = Model(len(vocab))\n",
    "    loss_func = cross_entropy_flat\n",
    "    opt = torch.optim.AdamW(model.parameters(), lr=1e-3)\n",
    "    return model, loss_func, opt"
   ]
  },
  {
   "cell_type": "code",
   "execution_count": null,
   "metadata": {},
   "outputs": [],
   "source": [
    "sched = combine_scheds([0.3, 0.7], [sched_cos(1e-4, 1e-3), sched_cos(1e-3, 3e-5)])"
   ]
  },
  {
   "cell_type": "code",
   "execution_count": null,
   "metadata": {},
   "outputs": [],
   "source": [
    "cbs = [partial(AvgStatsCallback, [accuracy_flat]),\n",
    "       partial(ParamScheduler,'lr', [sched]),\n",
    "       partial(GradientClipping, clip=0.1),\n",
    "       ProgressCallback,\n",
    "       CudaCallback,\n",
    "       Recorder]"
   ]
  },
  {
   "cell_type": "code",
   "execution_count": null,
   "metadata": {},
   "outputs": [],
   "source": [
    "trainer = Trainer(wiki_data, *get_basic(ClassifierModel, vocab), cb_funcs=cbs)"
   ]
  },
  {
   "cell_type": "code",
   "execution_count": null,
   "metadata": {},
   "outputs": [],
   "source": [
    "trainer.fit(epochs=1)"
   ]
  },
  {
   "cell_type": "code",
   "execution_count": null,
   "metadata": {},
   "outputs": [],
   "source": []
  }
 ],
 "metadata": {
  "kernelspec": {
   "display_name": "Python 3",
   "language": "python",
   "name": "python3"
  },
  "language_info": {
   "codemirror_mode": {
    "name": "ipython",
    "version": 3
   },
   "file_extension": ".py",
   "mimetype": "text/x-python",
   "name": "python",
   "nbconvert_exporter": "python",
   "pygments_lexer": "ipython3",
   "version": "3.7.7"
  }
 },
 "nbformat": 4,
 "nbformat_minor": 2
}
